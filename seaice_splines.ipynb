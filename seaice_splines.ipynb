{
 "cells": [
  {
   "cell_type": "code",
   "execution_count": 1,
   "metadata": {
    "collapsed": true
   },
   "outputs": [],
   "source": [
    "%matplotlib inline"
   ]
  },
  {
   "cell_type": "code",
   "execution_count": 2,
   "metadata": {
    "collapsed": true
   },
   "outputs": [],
   "source": [
    "import numpy as np\n",
    "import xarray as xr\n",
    "import pandas as pd\n",
    "\n",
    "import scipy.spatial\n",
    "import scipy.linalg\n",
    "\n",
    "import statsmodels.api as sm\n",
    "import statsmodels.formula.api as smf\n",
    "import statsmodels.sandbox.stats.multicomp as smm\n",
    "import statsmodels.tsa.stattools as tsa\n",
    "from statsmodels.graphics.tsaplots import plot_acf, plot_pacf\n",
    "\n",
    "import matplotlib.pyplot as plt\n",
    "import seaborn as sns\n",
    "#current_palette = sns.color_palette(\"hls\", 8)\n",
    "#sns.set_palette(current_palette)"
   ]
  },
  {
   "cell_type": "code",
   "execution_count": null,
   "metadata": {
    "collapsed": true
   },
   "outputs": [],
   "source": [
    "# Load the data\n",
    "# wget ftp://sidads.colorado.edu/pub/DATASETS/NOAA/G10010/G10010_SIBT1850_v1.1.zip\n",
    "nc = xr.open_dataset('data/G10010_SIBT1850_v1.1.nc')"
   ]
  },
  {
   "cell_type": "code",
   "execution_count": null,
   "metadata": {
    "collapsed": false
   },
   "outputs": [],
   "source": [
    "# Average out years\n",
    "yr_avg = nc.seaice_conc.groupby('time.year').mean()\n",
    "\n",
    "# Separate into seasons\n",
    "seasons = nc.seaice_conc.groupby('time.season').mean('latitude').mean('longitude')\n",
    "seas_df = seasons.to_dataframe()\n",
    "seas_df = seas_df.groupby([lambda x: x.year, 'season']).mean()\n",
    "seas_df = seas_df.reset_index()\n",
    "\n",
    "djf_df = seas_df.loc[seas_df['season'] == 'DJF']\n",
    "jja_df = seas_df.loc[seas_df['season'] == 'JJA']\n",
    "mam_df = seas_df.loc[seas_df['season'] == 'MAM']\n",
    "son_df = seas_df.loc[seas_df['season'] == 'SON']\n",
    "\n",
    "djf_df.reset_index(inplace=True)\n",
    "jja_df.reset_index(inplace=True)\n",
    "mam_df.reset_index(inplace=True)\n",
    "son_df.reset_index(inplace=True)\n",
    "\n",
    "del djf_df['index']\n",
    "del jja_df['index']\n",
    "del mam_df['index']\n",
    "del son_df['index']\n",
    "\n",
    "djf_df.columns = ['year', 'season', 'seaice_conc']\n",
    "jja_df.columns = ['year', 'season', 'seaice_conc']\n",
    "mam_df.columns = ['year', 'season', 'seaice_conc']\n",
    "son_df.columns = ['year', 'season', 'seaice_conc']\n",
    "\n",
    "del djf_df['season']\n",
    "del jja_df['season']\n",
    "del mam_df['season']\n",
    "del son_df['season']"
   ]
  },
  {
   "cell_type": "code",
   "execution_count": null,
   "metadata": {
    "collapsed": true
   },
   "outputs": [],
   "source": [
    "seasons = ['JJA', 'SON', 'DJF', 'MAM']\n",
    "dfs = {'DJF': djf_df, 'JJA': jja_df, 'MAM': mam_df, 'SON': son_df}"
   ]
  },
  {
   "cell_type": "code",
   "execution_count": null,
   "metadata": {
    "collapsed": true
   },
   "outputs": [],
   "source": [
    "cmap = {'JJA': 'crimson', 'SON': 'darkorange', 'DJF': 'steelblue', 'MAM': 'seagreen'}"
   ]
  },
  {
   "cell_type": "markdown",
   "metadata": {},
   "source": [
    "## Arctic splines\n",
    "\n",
    "Since the arctic sea data set is such a long time series, we'll compute linear splines to get a piecewise trend of the data.\n",
    "\n",
    "#### Definitions:\n",
    "\n",
    "* A **linear spline** is a continuous function formed by connecting linear\n",
    "segments.  The points where the segments connect are called the\n",
    "**knots** of the spline.\n",
    "\n",
    "* A **spline of degree** $D$ is a function formed by connecting polynomial segments\n",
    "of degree $D$ so that:\n",
    "    * the function is continuous,\n",
    "    * the function has $D-1$ continuous derivatives,\n",
    "    * the $D^{\\text{th}}$ derivative is constant between knots\n",
    "\n",
    "* The **truncated polynomial** of degree $D$ associated with knot $\\xi_{k}$ is the function which is equal to $0$ to the left of $\\xi_{k}$ and equal to $(x-\\xi_{k})^D$ to the right of $\\xi_{k}$.\n",
    "\n",
    "$$(x-\\xi_{k})_{+}^D = \n",
    "\\begin{cases}\n",
    "(x-\\xi_{k})^D, & \\text{if $x \\geq \\xi_{k}$} \\\\\n",
    "0, & \\text{if $x \\lt \\xi_{k}$}\n",
    "\\end{cases}\n",
    "$$\n",
    "\n",
    "\n",
    "#### Equation of spline of degree $D$ and $K$ knots:\n",
    "\n",
    "$$y = \\beta_{0} + \\sum_{d=1}^{D}\\beta_{d}x_{d} + \\sum_{k=1}^{K}\\alpha_{k}(x-\\xi_{k})_{+}^D$$\n",
    "\n",
    "#### Design Matrix:\n",
    "$$\n",
    "\\mathbf{X} = \n",
    "\\begin{bmatrix}\n",
    "1 & x_1 & x_{1}^{2} & \\dots & x_{1}^{D} & (x_{1}-\\xi_{1})_{+}^D & \\dots & (x_{1}-\\xi_{K})_{+}^D \\\\\n",
    "1 & x_2 & x_{2}^{2} & \\dots & x_{2}^{D} & (x_{2}-\\xi_{1})_{+}^D & \\dots & (x_{2}-\\xi_{K})_{+}^D \\\\\n",
    "\\vdots & \\vdots & \\vdots & \\ddots & \\vdots & \\vdots & \\ddots & \\vdots \\\\\n",
    "1 & x_n & x_{n}^{2} &\\dots & x_{n}^{D} & (x_{n}-\\xi_{1})_{+}^D & \\dots & (x_{n}-\\xi_{K})_{+}^D\n",
    "\\end{bmatrix}\n",
    "$$"
   ]
  },
  {
   "cell_type": "code",
   "execution_count": null,
   "metadata": {
    "collapsed": true
   },
   "outputs": [],
   "source": [
    "def linear_splines(data, knots, degree=1):\n",
    "    minyr = data.year.min()\n",
    "    nyrs = data.year.shape[0]\n",
    "\n",
    "    # Use indices of years for knots\n",
    "    minyr = data.year.min()\n",
    "    knots2 = [k-minyr for k in knots]\n",
    "    \n",
    "    # Column vector for beta1 are (t1, t2,...,tn)\n",
    "    X1 = np.arange(nyrs)\n",
    "    X1 = X1[:, np.newaxis]\n",
    "    \n",
    "    # Generate design matrix\n",
    "    X2 = np.zeros((nyrs, len(knots2)))\n",
    "    for col, k in enumerate(knots2):\n",
    "        X2[k:, col] = np.abs(X2[k:, col] - X1[:nyrs-k, 0])\n",
    "    X = np.hstack((X1, X2))\n",
    "    return smf.glm('seaice_conc ~ X', data=data).fit()"
   ]
  },
  {
   "cell_type": "markdown",
   "metadata": {},
   "source": [
    "### Knots for Arctic sea\n",
    "\n",
    "From the explore_seaice notebook, the trends look peicewise with possible knots at various locations. We'll define our set of knots for each season:\n",
    "\n",
    "$$\n",
    "K_{\\text{JJA}} = \\{1917, 1944, 1996\\}\\\\\n",
    "K_{\\text{SON}} = \\{1917, 1943, 1996\\}\\\\\n",
    "K_{\\text{DJF}} = \\{1974, 1996\\}\\\\\n",
    "K_{\\text{MAM}} = \\{1933, 1979\\}\n",
    "$$\n",
    "\n",
    "We'll plot the knots to visually check"
   ]
  },
  {
   "cell_type": "code",
   "execution_count": null,
   "metadata": {
    "collapsed": true
   },
   "outputs": [],
   "source": [
    "# Define the knots\n",
    "jjaknots = [1917, 1944, 1996]\n",
    "#jjaknots2 = [1893, 1899, 1917, 1943, 1996]\n",
    "sonknots = [1917, 1943, 1996]\n",
    "djfknots = [1974, 1996]\n",
    "mamknots = [1933, 1979]\n",
    "\n",
    "splines = {'JJA': linear_splines(jja_df, jjaknots),\n",
    "           'SON': linear_splines(son_df, sonknots),\n",
    "           'DJF': linear_splines(djf_df, djfknots),\n",
    "           'MAM': linear_splines(mam_df, mamknots)}"
   ]
  },
  {
   "cell_type": "code",
   "execution_count": null,
   "metadata": {
    "collapsed": true
   },
   "outputs": [],
   "source": [
    "def plot_splines(yrs, conc, preds, label, season=None, ax=None, col='g'):\n",
    "    if ax is None:\n",
    "        ax = plt.gca()\n",
    "    spl = ax.plot(yrs, conc, alpha=0.3, color='k')\n",
    "    ax.plot(yrs, preds, label=label, color=col)\n",
    "    ax.legend()\n",
    "    ax.set_xlim(1845, 2016)\n",
    "    #ax.set_ylim(17.5, 26)\n",
    "    ax.set_xlabel('years')\n",
    "    ax.set_ylabel('seaice_conc')\n",
    "    ax.set_title('Linear Splines for {}'.format(season))\n",
    "    return spl"
   ]
  },
  {
   "cell_type": "code",
   "execution_count": null,
   "metadata": {
    "collapsed": false
   },
   "outputs": [],
   "source": [
    "f, axs = plt.subplots(2, 2, figsize=(15,10))\n",
    "axs = np.array(axs)\n",
    "\n",
    "for i, ax in enumerate(axs.reshape(-1)):\n",
    "    s = seasons[i]\n",
    "    yr = dfs[s].year\n",
    "    conc = dfs[s].seaice_conc\n",
    "    preds = splines[s].fittedvalues\n",
    "    plot_splines(yr, conc, preds, 'splines', season=s, ax=ax, col=cmap[s])"
   ]
  },
  {
   "cell_type": "markdown",
   "metadata": {
    "collapsed": true
   },
   "source": [
    "Visually the splines look reasonable. However, let's test the significance of each spline and remove the splines that are not significicant with a significance level, $\\alpha = 0.05$\n",
    "\n",
    "We'll use Bonferroni's correction for multiple tests."
   ]
  },
  {
   "cell_type": "code",
   "execution_count": null,
   "metadata": {
    "collapsed": true
   },
   "outputs": [],
   "source": [
    "nyrs = yr_avg.shape[0]\n",
    "#nparams = len(knots) + 2\n",
    "\n",
    "# Estimates\n",
    "mu_hat = {season: spl.mu for season, spl in splines.items()}\n",
    "R = {season: spl.resid_response.values for season, spl in splines.items()}\n",
    "cov = {season: spl.cov_params() for season, spl in splines.items()}\n",
    "#sigma_hat2 = {season: np.sum(r**2) / (nyrs-nparams) for season, r in R.items()}\n",
    "pvals = {season: spl.pvalues.values for season, spl in splines.items()}"
   ]
  },
  {
   "cell_type": "code",
   "execution_count": null,
   "metadata": {
    "collapsed": true
   },
   "outputs": [],
   "source": [
    "bonferonnis = {season: (smm.multipletests(pval, method='bonferroni')[:2])\n",
    "               for season, pval in pvals.items()}"
   ]
  },
  {
   "cell_type": "code",
   "execution_count": null,
   "metadata": {
    "collapsed": false
   },
   "outputs": [],
   "source": [
    "for season, test in bonferonnis.items():\n",
    "    print('{}: {}'.format(season, test[0]))"
   ]
  },
  {
   "cell_type": "markdown",
   "metadata": {},
   "source": [
    "We see some splines are not significant. We'll remove those and recompute our model. Our new knots are now:\n",
    "\n",
    "$$\n",
    "K_{\\text{JJA}} = \\{1944, 1996\\}\\\\\n",
    "K_{\\text{SON}} = \\{1917, 1996\\}\\\\\n",
    "K_{\\text{DJF}} = \\{1996\\}\\\\\n",
    "K_{\\text{MAM}} = \\{1933, 1979\\}\n",
    "$$\n"
   ]
  },
  {
   "cell_type": "code",
   "execution_count": null,
   "metadata": {
    "collapsed": true
   },
   "outputs": [],
   "source": [
    "# Splines with new knots... Pt.2\n",
    "jjaknots2 = [1944, 1996]\n",
    "sonknots2 = [1917, 1996]\n",
    "djfknots2 = [1996]\n",
    "mamknots2 = [1933, 1979]\n",
    "\n",
    "splines2 = {'JJA': linear_splines(jja_df, jjaknots2),\n",
    "           'SON': linear_splines(son_df, sonknots2),\n",
    "           'DJF': linear_splines(djf_df, djfknots2),\n",
    "           'MAM': linear_splines(mam_df, mamknots2)}"
   ]
  },
  {
   "cell_type": "code",
   "execution_count": null,
   "metadata": {
    "collapsed": false
   },
   "outputs": [],
   "source": [
    "f, axs = plt.subplots(2, 2, figsize=(15,10))\n",
    "axs = np.array(axs)\n",
    "\n",
    "for i, ax in enumerate(axs.reshape(-1)):\n",
    "    s = seasons[i]\n",
    "    yr = dfs[s].year\n",
    "    conc = dfs[s].seaice_conc\n",
    "    preds = splines2[s].fittedvalues\n",
    "    plot_splines(yr, conc, preds, 'splines', season=s, ax=ax, col=cmap[s])"
   ]
  },
  {
   "cell_type": "code",
   "execution_count": null,
   "metadata": {
    "collapsed": false
   },
   "outputs": [],
   "source": [
    "# Estimates Pt.2\n",
    "mu_hat2 = {season: spl.mu for season, spl in splines2.items()}\n",
    "R2 = {season: spl.resid_response.values for season, spl in splines2.items()}\n",
    "cov2 = {season: spl.cov_params() for season, spl in splines2.items()}\n",
    "pvals2 = {season: spl.pvalues.values for season, spl in splines2.items()}\n",
    "\n",
    "bonferonnis2 = {season: (smm.multipletests(pval, method='bonferroni')[:2])\n",
    "               for season, pval in pvals2.items()}\n",
    "\n",
    "for season, test in bonferonnis2.items():\n",
    "    print('{}: {}'.format(season, test[0]))"
   ]
  },
  {
   "cell_type": "markdown",
   "metadata": {},
   "source": [
    "Once again, we see some splines that don't make the cut. We'll remove those, and recompute our model. Our knots are now:\n",
    "\n",
    "$$\n",
    "K_{\\text{JJA}} = \\{1996\\}\\\\\n",
    "K_{\\text{SON}} = \\{1996\\}\\\\\n",
    "K_{\\text{DJF}} = \\{1996\\}\\\\\n",
    "K_{\\text{MAM}} = \\{1933, 1979\\}\n",
    "$$\n"
   ]
  },
  {
   "cell_type": "code",
   "execution_count": null,
   "metadata": {
    "collapsed": false
   },
   "outputs": [],
   "source": [
    "# Estimates Pt.3\n",
    "jjaknots3 = [1996]\n",
    "sonknots3 = [1996]\n",
    "djfknots3 = [1996]\n",
    "mamknots3 = [1933, 1979]\n",
    "\n",
    "splines3 = {'JJA': linear_splines(jja_df, jjaknots3),\n",
    "           'SON': linear_splines(son_df, sonknots3),\n",
    "           'DJF': linear_splines(djf_df, djfknots3),\n",
    "           'MAM': linear_splines(mam_df, mamknots3)}\n",
    "\n",
    "f, axs = plt.subplots(2, 2, figsize=(15,10))\n",
    "axs = np.array(axs)\n",
    "\n",
    "for i, ax in enumerate(axs.reshape(-1)):\n",
    "    s = seasons[i]\n",
    "    yr = dfs[s].year\n",
    "    conc = dfs[s].seaice_conc\n",
    "    preds = splines3[s].fittedvalues\n",
    "    plot_splines(yr, conc, preds, 'splines', season=s, ax=ax, col=cmap[s])"
   ]
  },
  {
   "cell_type": "code",
   "execution_count": null,
   "metadata": {
    "collapsed": false
   },
   "outputs": [],
   "source": [
    "# Bonferonnis Pt.3\n",
    "mu_hat3 = {season: spl.mu for season, spl in splines3.items()}\n",
    "R3 = {season: spl.resid_response.values for season, spl in splines3.items()}\n",
    "cov3 = {season: spl.cov_params() for season, spl in splines3.items()}\n",
    "pvals3 = {season: spl.pvalues.values for season, spl in splines3.items()}\n",
    "\n",
    "bonferonnis3 = {season: (smm.multipletests(pval, method='bonferroni')[:2])\n",
    "               for season, pval in pvals3.items()}\n",
    "\n",
    "for season, test in bonferonnis3.items():\n",
    "    print('{}: {}'.format(season, test[0]))"
   ]
  },
  {
   "cell_type": "markdown",
   "metadata": {},
   "source": [
    "Finally! We have a set of knots that are significant."
   ]
  },
  {
   "cell_type": "code",
   "execution_count": null,
   "metadata": {
    "collapsed": true
   },
   "outputs": [],
   "source": [
    "# Rename R3 to something more meaningful: residuals\n",
    "residuals = R3"
   ]
  },
  {
   "cell_type": "markdown",
   "metadata": {},
   "source": [
    "### Plot ACFs and PACFs of the residiuals for each season"
   ]
  },
  {
   "cell_type": "code",
   "execution_count": null,
   "metadata": {
    "collapsed": false
   },
   "outputs": [],
   "source": [
    "# Plot ACFs and PACFs\n",
    "f, axs = plt.subplots(4, 2, figsize=(18,16))\n",
    "\n",
    "jja_acf = plot_acf(residuals['JJA'], lags=100, title ='JJA - ACF', ax=axs[0,0])\n",
    "jja_pacf = plot_pacf(residuals['JJA'], lags=100, title='JJA - PACF', ax=axs[0,1])\n",
    "\n",
    "son_acf = plot_acf(residuals['SON'], lags=100, title='SON - ACF', ax=axs[1,0])\n",
    "son_pacf = plot_pacf(residuals['SON'], lags=100, title='SON - PACF', ax=axs[1,1])\n",
    "\n",
    "djf_acf = plot_acf(residuals['DJF'], lags=100, title='DJF - ACF', ax=axs[2,0])\n",
    "djf_pacf = plot_pacf(residuals['DJF'], lags=100, title='DJF - PACF', ax=axs[2,1])\n",
    "\n",
    "mam_acf = plot_acf(residuals['MAM'], lags=100, title='MAM - ACF', ax=axs[3,0])\n",
    "mam_pacf = plot_pacf(residuals['MAM'], lags=100, title='MAM - PACF', ax=axs[3,1])"
   ]
  },
  {
   "cell_type": "code",
   "execution_count": null,
   "metadata": {
    "collapsed": false
   },
   "outputs": [],
   "source": [
    "%%javascript\n",
    "IPython.OutputArea.prototype._should_scroll = function(lines) {\n",
    "    return false;\n",
    "}"
   ]
  },
  {
   "cell_type": "code",
   "execution_count": null,
   "metadata": {
    "collapsed": false,
    "scrolled": true
   },
   "outputs": [],
   "source": [
    "f, axr = plt.subplots(4, 2, figsize=(18,16))\n",
    "\n",
    "axr[0,0].scatter(jja_df.year, residuals['JJA'], color=cmap['JJA'])\n",
    "axr[0,0].set_ylabel('Residual')\n",
    "axr[0,0].set_title('JJA')\n",
    "axr[0,1].scatter(jja_df.seaice_conc, residuals['JJA'], color=cmap['JJA'])\n",
    "\n",
    "axr[1,0].scatter(son_df.year, residuals['SON'], color=cmap['SON'])\n",
    "axr[1,0].set_ylabel('Residual')\n",
    "axr[1,0].set_title('SON')\n",
    "axr[1,1].scatter(son_df.seaice_conc, residuals['SON'], color=cmap['SON'])\n",
    "\n",
    "axr[2,0].scatter(djf_df.year, residuals['DJF'], color=cmap['DJF'])\n",
    "axr[2,0].set_ylabel('Residual')\n",
    "axr[2,0].set_title('DJF')\n",
    "axr[2,1].scatter(djf_df.seaice_conc, residuals['DJF'], color=cmap['DJF'])\n",
    "\n",
    "axr[3,0].scatter(mam_df.year, residuals['MAM'], color=cmap['MAM'])\n",
    "axr[3,0].set_ylabel('Residual')\n",
    "axr[3,0].set_title('MAM')\n",
    "axr[3,1].scatter(mam_df.seaice_conc, residuals['MAM'], color=cmap['MAM'])\n",
    "\n",
    "axr[3,0].set_xlabel('Years')\n",
    "axr[3,1].set_xlabel('Seaice Concentration')"
   ]
  },
  {
   "cell_type": "code",
   "execution_count": null,
   "metadata": {
    "collapsed": true
   },
   "outputs": [],
   "source": [
    "# Compute FFT of the residuals\n",
    "# Take the periodogram (abs(R)^2)\n",
    "# Plot the periodogram"
   ]
  },
  {
   "cell_type": "code",
   "execution_count": null,
   "metadata": {
    "collapsed": true
   },
   "outputs": [],
   "source": [
    "ffts = {season: np.fft.fft(resid) for season, resid in residuals.items()}\n",
    "periodograms = {season: np.abs(fftr)**2 for season, fftr in ffts.items()}"
   ]
  },
  {
   "cell_type": "code",
   "execution_count": null,
   "metadata": {
    "collapsed": false
   },
   "outputs": [],
   "source": [
    "f, ax = plt.subplots(2, 2, figsize=(18,16))\n",
    "\n",
    "ax[0,0].plot(periodograms['JJA'], color=cmap['JJA'])\n",
    "ax[0,0].set_title('JJA')\n",
    "\n",
    "ax[0,1].plot(periodograms['SON'], color=cmap['SON'])\n",
    "ax[0,1].set_title('SON')\n",
    "\n",
    "ax[1,0].plot(periodograms['DJF'], color=cmap['DJF'])\n",
    "ax[1,0].set_title('DJF')\n",
    "\n",
    "ax[1,1].plot(periodograms['MAM'], color=cmap['MAM'])\n",
    "ax[1,1].set_title('MAM')"
   ]
  },
  {
   "cell_type": "code",
   "execution_count": null,
   "metadata": {
    "collapsed": false,
    "scrolled": false
   },
   "outputs": [],
   "source": [
    "f, ax = plt.subplots(2, 2, figsize=(18,16))\n",
    "\n",
    "ax[0,0].plot(periodograms['JJA'][:8], color=cmap['JJA'])\n",
    "ax[0,0].set_title('JJA')\n",
    "\n",
    "ax[0,1].plot(periodograms['SON'][:8], color=cmap['SON'])\n",
    "ax[0,1].set_title('SON')\n",
    "\n",
    "ax[1,0].plot(periodograms['DJF'][:8], color=cmap['DJF'])\n",
    "ax[1,0].set_title('DJF')\n",
    "\n",
    "ax[1,1].plot(periodograms['MAM'][5:20], color=cmap['MAM'])\n",
    "ax[1,1].set_title('MAM')"
   ]
  },
  {
   "cell_type": "code",
   "execution_count": null,
   "metadata": {
    "collapsed": true
   },
   "outputs": [],
   "source": []
  },
  {
   "cell_type": "code",
   "execution_count": null,
   "metadata": {
    "collapsed": true
   },
   "outputs": [],
   "source": [
    "t1 = yr_avg.year.values\n",
    "nyrs = t1.max() - t1.min() + 1"
   ]
  },
  {
   "cell_type": "markdown",
   "metadata": {},
   "source": [
    "# JJA"
   ]
  },
  {
   "cell_type": "code",
   "execution_count": null,
   "metadata": {
    "collapsed": true
   },
   "outputs": [],
   "source": [
    "y_jja = jja_df.seaice_conc.values\n",
    "sin_jja = np.array([np.sin(2*np.pi*2 * (t/nyrs)) for t in np.arange(nyrs)])\n",
    "cos_jja = np.array([np.cos(2*np.pi*2 * (t/nyrs)) for t in np.arange(nyrs)])"
   ]
  },
  {
   "cell_type": "code",
   "execution_count": null,
   "metadata": {
    "collapsed": false
   },
   "outputs": [],
   "source": [
    "fit_jja = smf.glm('y_jja ~ sin_jja + cos_jja', data=jja_df).fit()\n",
    "fit_jja.summary()"
   ]
  },
  {
   "cell_type": "code",
   "execution_count": null,
   "metadata": {
    "collapsed": false
   },
   "outputs": [],
   "source": [
    "print(fit_jja.params)\n",
    "k_hat_jja = fit_jja.params.values  # extract fitted regression coefficients\n",
    "e_jja = fit_jja.resid_response    # extract raw residuals"
   ]
  },
  {
   "cell_type": "code",
   "execution_count": null,
   "metadata": {
    "collapsed": false
   },
   "outputs": [],
   "source": [
    "# Check to see if the mean of residuals are numerically close to 0\n",
    "print(np.mean(e_jja))"
   ]
  },
  {
   "cell_type": "code",
   "execution_count": null,
   "metadata": {
    "collapsed": false
   },
   "outputs": [],
   "source": [
    "plt.scatter(jja_df.year, e_jja)"
   ]
  },
  {
   "cell_type": "markdown",
   "metadata": {},
   "source": [
    "### Fit seasonal cycle with sine removed"
   ]
  },
  {
   "cell_type": "code",
   "execution_count": null,
   "metadata": {
    "collapsed": false
   },
   "outputs": [],
   "source": [
    "# fitted seasonal cycle\n",
    "f_hat_jja = k_hat_jja[0] + k_hat_jja[2]*cos_jja  \n",
    "plt.plot(f_hat_jja,'k-') "
   ]
  },
  {
   "cell_type": "code",
   "execution_count": null,
   "metadata": {
    "collapsed": true
   },
   "outputs": [],
   "source": [
    "# Remove residuals and subtract mean for second order residuals: R^2\n",
    "resid2_jja = residuals['JJA'] - f_hat_jja\n",
    "resid2_jja = resid2_jja - np.mean(resid2_jja)"
   ]
  },
  {
   "cell_type": "code",
   "execution_count": null,
   "metadata": {
    "collapsed": false
   },
   "outputs": [],
   "source": [
    "import statsmodels.tsa.arima_model as arima\n",
    "\n",
    "# Fit AR2 model for R^2\n",
    "fit2_jja = arima.ARIMA(resid2_jja, (2,0,0)).fit()\n",
    "fit2_jja.summary()"
   ]
  },
  {
   "cell_type": "code",
   "execution_count": null,
   "metadata": {
    "collapsed": true
   },
   "outputs": [],
   "source": [
    "# Remove fitted terms from residual (R^3) to check for white noise\n",
    "resid3_jja = fit2_jja.resid\n",
    "phi_hat_jja = fit2_jja.arparams\n",
    "\n",
    "X1_jja = resid3_jja[1:]\n",
    "X2_jja = resid3_jja[:-1]\n",
    "\n",
    "X1_jja = X1_jja[:, np.newaxis]\n",
    "X2_jja = X2_jja[:, np.newaxis]\n",
    "\n",
    "X_jja = np.hstack((X1_jja, X2_jja))\n",
    "E_jja = resid3_jja[1:] - np.dot(X_jja, phi_hat_jja)"
   ]
  },
  {
   "cell_type": "code",
   "execution_count": null,
   "metadata": {
    "collapsed": false
   },
   "outputs": [],
   "source": [
    "plt.scatter(np.arange(len(E_jja)), E_jja)"
   ]
  },
  {
   "cell_type": "code",
   "execution_count": null,
   "metadata": {
    "collapsed": false
   },
   "outputs": [],
   "source": [
    "ejja_acf = plot_acf(E_jja)\n",
    "ejja_pacf = plot_pacf(E_jja)"
   ]
  },
  {
   "cell_type": "markdown",
   "metadata": {},
   "source": [
    "# SON"
   ]
  },
  {
   "cell_type": "code",
   "execution_count": null,
   "metadata": {
    "collapsed": true
   },
   "outputs": [],
   "source": [
    "y_son = son_df.seaice_conc.values\n",
    "sin_son = np.array([np.sin(2*np.pi*3 * (t/nyrs)) for t in np.arange(nyrs)])\n",
    "cos_son = np.array([np.cos(2*np.pi*3 * (t/nyrs)) for t in np.arange(nyrs)])"
   ]
  },
  {
   "cell_type": "code",
   "execution_count": null,
   "metadata": {
    "collapsed": false
   },
   "outputs": [],
   "source": [
    "fit_son = smf.glm('y_son ~ sin_son + cos_son', data=son_df).fit()\n",
    "fit_son.summary()"
   ]
  },
  {
   "cell_type": "code",
   "execution_count": null,
   "metadata": {
    "collapsed": false
   },
   "outputs": [],
   "source": [
    "# Check pvalues for coefficients\n",
    "fit_son.pvalues"
   ]
  },
  {
   "cell_type": "code",
   "execution_count": null,
   "metadata": {
    "collapsed": false
   },
   "outputs": [],
   "source": [
    "print(fit_son.params)\n",
    "k_hat_son = fit_son.params.values  # extract fitted regression coefficients\n",
    "e_son = fit_son.resid_response    # extract raw residuals"
   ]
  },
  {
   "cell_type": "code",
   "execution_count": null,
   "metadata": {
    "collapsed": false
   },
   "outputs": [],
   "source": [
    "plt.scatter(son_df.year, e_son)"
   ]
  },
  {
   "cell_type": "code",
   "execution_count": null,
   "metadata": {
    "collapsed": false
   },
   "outputs": [],
   "source": [
    "# fitted seasonal cycle\n",
    "f_hat_son = k_hat_son[0] + k_hat_son[1]*sin_son + k_hat_son[2]*cos_son\n",
    "plt.plot(f_hat_son,'k-')"
   ]
  },
  {
   "cell_type": "code",
   "execution_count": null,
   "metadata": {
    "collapsed": true
   },
   "outputs": [],
   "source": [
    "# Remove residuals and subtract mean for second order residuals: R^2\n",
    "resid2_son = residuals['SON'] - f_hat_son\n",
    "resid2_son = resid2_son - np.mean(resid2_son)"
   ]
  },
  {
   "cell_type": "code",
   "execution_count": null,
   "metadata": {
    "collapsed": false
   },
   "outputs": [],
   "source": [
    "# Fit AR2 model for R^2\n",
    "fit2_son = arima.ARIMA(resid2_son, (2,0,0)).fit()\n",
    "fit2_son.summary()"
   ]
  },
  {
   "cell_type": "code",
   "execution_count": null,
   "metadata": {
    "collapsed": true
   },
   "outputs": [],
   "source": [
    "# Remove fitted terms from residual (R^3) to check for white noise\n",
    "resid3_son = fit2_son.resid\n",
    "phi_hat_son = fit2_son.arparams\n",
    "\n",
    "X1_son = resid3_son[1:]\n",
    "X2_son = resid3_son[:-1]\n",
    "\n",
    "X1_son = X1_son[:, np.newaxis]\n",
    "X2_son = X2_son[:, np.newaxis]\n",
    "\n",
    "X_son = np.hstack((X1_son, X2_son))\n",
    "E_son = resid3_son[1:] - np.dot(X_son, phi_hat_son)"
   ]
  },
  {
   "cell_type": "code",
   "execution_count": null,
   "metadata": {
    "collapsed": false
   },
   "outputs": [],
   "source": [
    "plt.scatter(np.arange(len(E_son)), E_son)"
   ]
  },
  {
   "cell_type": "code",
   "execution_count": null,
   "metadata": {
    "collapsed": false
   },
   "outputs": [],
   "source": [
    "eson_acf = plot_acf(E_son)\n",
    "eson_pacf = plot_pacf(E_son)"
   ]
  },
  {
   "cell_type": "markdown",
   "metadata": {},
   "source": [
    "# DJF"
   ]
  },
  {
   "cell_type": "code",
   "execution_count": null,
   "metadata": {
    "collapsed": true
   },
   "outputs": [],
   "source": [
    "y_djf = djf_df.seaice_conc.values\n",
    "sin_djf = np.array([np.sin(2*np.pi*4 * (t/nyrs)) for t in np.arange(nyrs)])\n",
    "cos_djf = np.array([np.cos(2*np.pi*4 * (t/nyrs)) for t in np.arange(nyrs)])"
   ]
  },
  {
   "cell_type": "code",
   "execution_count": null,
   "metadata": {
    "collapsed": false
   },
   "outputs": [],
   "source": [
    "fit_djf = smf.glm('y_djf ~ sin_djf + cos_djf', data=djf_df).fit()\n",
    "fit_djf.summary()"
   ]
  },
  {
   "cell_type": "code",
   "execution_count": null,
   "metadata": {
    "collapsed": false
   },
   "outputs": [],
   "source": [
    "# Check pvalues for coefficients\n",
    "fit_djf.pvalues"
   ]
  },
  {
   "cell_type": "code",
   "execution_count": null,
   "metadata": {
    "collapsed": false
   },
   "outputs": [],
   "source": [
    "print(fit_djf.params)\n",
    "k_hat_djf = fit_djf.params.values  # extract fitted regression coefficients\n",
    "e_djf = fit_djf.resid_response    # extract raw residuals"
   ]
  },
  {
   "cell_type": "code",
   "execution_count": null,
   "metadata": {
    "collapsed": false
   },
   "outputs": [],
   "source": [
    "plt.scatter(djf_df.year, e_djf)"
   ]
  },
  {
   "cell_type": "code",
   "execution_count": null,
   "metadata": {
    "collapsed": false
   },
   "outputs": [],
   "source": [
    "# fitted seasonal cycle\n",
    "f_hat_djf = k_hat_djf[0] + k_hat_djf[1]*sin_djf + k_hat_djf[2]*cos_djf\n",
    "plt.plot(f_hat_djf,'k-')"
   ]
  },
  {
   "cell_type": "code",
   "execution_count": null,
   "metadata": {
    "collapsed": true
   },
   "outputs": [],
   "source": [
    "# Remove residuals and subtract mean for second order residuals: R^2\n",
    "resid2_djf = residuals['DJF'] - f_hat_djf\n",
    "resid2_djf = resid2_djf - np.mean(resid2_djf)"
   ]
  },
  {
   "cell_type": "code",
   "execution_count": null,
   "metadata": {
    "collapsed": false
   },
   "outputs": [],
   "source": [
    "# Fit AR2 model for R^2\n",
    "fit2_djf = arima.ARIMA(resid2_djf, (2,0,0)).fit()\n",
    "fit2_djf.summary()"
   ]
  },
  {
   "cell_type": "code",
   "execution_count": null,
   "metadata": {
    "collapsed": true
   },
   "outputs": [],
   "source": [
    "# Remove fitted terms from residual (R^3) to check for white noise\n",
    "resid3_djf = fit2_djf.resid\n",
    "phi_hat_djf = fit2_djf.arparams\n",
    "\n",
    "X1_djf = resid3_djf[1:]\n",
    "X2_djf = resid3_djf[:-1]\n",
    "\n",
    "X1_djf = X1_djf[:, np.newaxis]\n",
    "X2_djf = X2_djf[:, np.newaxis]\n",
    "\n",
    "X_djf = np.hstack((X1_djf, X2_djf))\n",
    "E_djf = resid3_djf[1:] - np.dot(X_djf, phi_hat_djf)"
   ]
  },
  {
   "cell_type": "code",
   "execution_count": null,
   "metadata": {
    "collapsed": false
   },
   "outputs": [],
   "source": [
    "plt.scatter(np.arange(len(E_djf)), E_djf)"
   ]
  },
  {
   "cell_type": "code",
   "execution_count": null,
   "metadata": {
    "collapsed": false
   },
   "outputs": [],
   "source": [
    "edjf_acf = plot_acf(E_djf)\n",
    "edjf_pacf = plot_pacf(E_djf)"
   ]
  },
  {
   "cell_type": "markdown",
   "metadata": {},
   "source": [
    "# MAM"
   ]
  },
  {
   "cell_type": "code",
   "execution_count": null,
   "metadata": {
    "collapsed": true
   },
   "outputs": [],
   "source": [
    "y_mam = mam_df.seaice_conc.values\n",
    "sin_mam = np.array([np.sin(2*np.pi*2 * (t/nyrs)) for t in np.arange(nyrs)])\n",
    "cos_mam = np.array([np.cos(2*np.pi*2 * (t/nyrs)) for t in np.arange(nyrs)])"
   ]
  },
  {
   "cell_type": "code",
   "execution_count": null,
   "metadata": {
    "collapsed": false
   },
   "outputs": [],
   "source": [
    "fit_mam = smf.glm('y_mam ~ sin_mam + cos_mam', data=mam_df).fit()\n",
    "fit_mam.summary()"
   ]
  },
  {
   "cell_type": "code",
   "execution_count": null,
   "metadata": {
    "collapsed": false
   },
   "outputs": [],
   "source": [
    "# Check pvalues for coefficients\n",
    "fit_mam.pvalues"
   ]
  },
  {
   "cell_type": "code",
   "execution_count": null,
   "metadata": {
    "collapsed": false
   },
   "outputs": [],
   "source": [
    "print(fit_mam.params)\n",
    "k_hat_mam = fit_mam.params.values  # extract fitted regression coefficients\n",
    "e_mam = fit_mam.resid_response    # extract raw residuals"
   ]
  },
  {
   "cell_type": "code",
   "execution_count": null,
   "metadata": {
    "collapsed": false
   },
   "outputs": [],
   "source": [
    "plt.scatter(mam_df.year, e_mam)"
   ]
  },
  {
   "cell_type": "code",
   "execution_count": null,
   "metadata": {
    "collapsed": false
   },
   "outputs": [],
   "source": [
    "# fitted seasonal cycle\n",
    "f_hat_mam = k_hat_mam[0] + k_hat_mam[1]*sin_mam + k_hat_mam[2]*cos_mam\n",
    "plt.plot(f_hat_mam,'k-')"
   ]
  },
  {
   "cell_type": "code",
   "execution_count": null,
   "metadata": {
    "collapsed": true
   },
   "outputs": [],
   "source": [
    "# Remove residuals and subtract mean for second order residuals: R^2\n",
    "resid2_mam = residuals['MAM'] - f_hat_mam\n",
    "resid2_mam = resid2_mam - np.mean(resid2_mam)"
   ]
  },
  {
   "cell_type": "code",
   "execution_count": null,
   "metadata": {
    "collapsed": false
   },
   "outputs": [],
   "source": [
    "# Fit AR2 model for R^2\n",
    "fit2_mam = arima.ARIMA(resid2_mam, (2,0,0)).fit()\n",
    "fit2_mam.summary()"
   ]
  },
  {
   "cell_type": "code",
   "execution_count": null,
   "metadata": {
    "collapsed": true
   },
   "outputs": [],
   "source": [
    "# Remove fitted terms from residual (R^3) to check for white noise\n",
    "resid3_mam = fit2_mam.resid\n",
    "phi_hat_mam = fit2_mam.arparams\n",
    "\n",
    "X1_mam = resid3_mam[1:]\n",
    "X2_mam = resid3_mam[:-1]\n",
    "\n",
    "X1_mam = X1_mam[:, np.newaxis]\n",
    "X2_mam = X2_mam[:, np.newaxis]\n",
    "\n",
    "X_mam = np.hstack((X1_mam, X2_mam))\n",
    "E_mam = resid3_mam[1:] - np.dot(X_mam, phi_hat_mam)"
   ]
  },
  {
   "cell_type": "code",
   "execution_count": null,
   "metadata": {
    "collapsed": false
   },
   "outputs": [],
   "source": [
    "plt.scatter(np.arange(len(E_mam)), E_mam)"
   ]
  },
  {
   "cell_type": "code",
   "execution_count": null,
   "metadata": {
    "collapsed": false
   },
   "outputs": [],
   "source": [
    "emam_acf = plot_acf(E_mam)\n",
    "emam_pacf = plot_pacf(E_mam)"
   ]
  },
  {
   "cell_type": "code",
   "execution_count": null,
   "metadata": {
    "collapsed": true
   },
   "outputs": [],
   "source": []
  }
 ],
 "metadata": {
  "kernelspec": {
   "display_name": "Python 3",
   "language": "python",
   "name": "python3"
  },
  "language_info": {
   "codemirror_mode": {
    "name": "ipython",
    "version": 3
   },
   "file_extension": ".py",
   "mimetype": "text/x-python",
   "name": "python",
   "nbconvert_exporter": "python",
   "pygments_lexer": "ipython3",
   "version": "3.6.0"
  }
 },
 "nbformat": 4,
 "nbformat_minor": 2
}
