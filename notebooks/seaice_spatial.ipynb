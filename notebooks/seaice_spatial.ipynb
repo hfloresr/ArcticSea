{
 "cells": [
  {
   "cell_type": "code",
   "execution_count": null,
   "metadata": {
    "collapsed": true
   },
   "outputs": [],
   "source": [
    "%matplotlib inline"
   ]
  },
  {
   "cell_type": "code",
   "execution_count": null,
   "metadata": {
    "collapsed": true
   },
   "outputs": [],
   "source": [
    "import numpy as np\n",
    "import xarray as xr\n",
    "import pandas as pd\n",
    "\n",
    "import scipy.spatial\n",
    "import scipy.linalg\n",
    "import scipy as sp\n",
    "\n",
    "import statsmodels.api as sm\n",
    "import statsmodels.formula.api as smf\n",
    "import statsmodels.sandbox.stats.multicomp as smm\n",
    "import statsmodels.tsa.stattools as tsa\n",
    "#from statsmodels.graphics.tsaplots import plot_acf, plot_pacf\n",
    "\n",
    "import matplotlib.pyplot as plt\n",
    "from mpl_toolkits.basemap import Basemap\n",
    "import seaborn as sns"
   ]
  },
  {
   "cell_type": "code",
   "execution_count": null,
   "metadata": {
    "collapsed": true
   },
   "outputs": [],
   "source": [
    "import rpy2.robjects as ro\n",
    "from rpy2.robjects.packages import importr\n",
    "from rpy2.robjects.lib import grdevices\n",
    "from IPython.display import Image, display\n",
    "import rpy2.robjects.numpy2ri\n",
    "rpy2.robjects.numpy2ri.activate()\n",
    "\n",
    "base = importr('base')\n",
    "mvts = importr('mvtsplot')"
   ]
  },
  {
   "cell_type": "code",
   "execution_count": null,
   "metadata": {
    "collapsed": false
   },
   "outputs": [],
   "source": [
    "# Load the data\n",
    "# wget ftp://sidads.colorado.edu/pub/DATASETS/NOAA/G10010/G10010_SIBT1850_v1.1.zip\n",
    "nc = xr.open_dataset('../data/G10010_SIBT1850_v1.1.nc')"
   ]
  },
  {
   "cell_type": "code",
   "execution_count": null,
   "metadata": {
    "collapsed": true
   },
   "outputs": [],
   "source": [
    "# Extract seasons\n",
    "seasons = {season: data for season, data in list(nc.seaice_conc.groupby('time.season'))}"
   ]
  },
  {
   "cell_type": "code",
   "execution_count": null,
   "metadata": {
    "collapsed": true
   },
   "outputs": [],
   "source": [
    "# Resample to get yearly averages across all seasons\n",
    "seasons = {season: data.resample('AS', dim='time', how='mean') for season, data in seasons.items()}"
   ]
  },
  {
   "cell_type": "code",
   "execution_count": null,
   "metadata": {
    "collapsed": false
   },
   "outputs": [],
   "source": [
    "# Convert to dataframe\n",
    "dfs = {season: data.to_dataframe().reset_index() for season, data in seasons.items()}\n",
    "\n",
    "# Remove land\n",
    "dfs = {season: df[df['seaice_conc'] >= 0] for season, df in dfs.items()}\n",
    "\n",
    "# Remove latitude values less than 50 degrees (where ~1% of seaice_conc are nonzero)\n",
    "dfs = {season: df[df['latitude'] >= 50] for season, df in dfs.items()}"
   ]
  },
  {
   "cell_type": "code",
   "execution_count": null,
   "metadata": {
    "collapsed": true
   },
   "outputs": [],
   "source": []
  },
  {
   "cell_type": "code",
   "execution_count": null,
   "metadata": {
    "collapsed": true
   },
   "outputs": [],
   "source": [
    "# Extract timeseries for DJF\n",
    "djf_series = {(lat, lon): df for lat, latdf in list(dfs['DJF'].groupby('latitude'))\n",
    "                             for lon, df in list(latdf.groupby('longitude'))}"
   ]
  },
  {
   "cell_type": "code",
   "execution_count": null,
   "metadata": {
    "collapsed": true
   },
   "outputs": [],
   "source": [
    "# # Plot a couple series\n",
    "# plt.figure(figsize=(16,12))\n",
    "# eps = 0\n",
    "# for latlon, series in djf_series.items():\n",
    "#     if eps > 100500 and eps < 100506:\n",
    "#         #plt.plot(series['time'], series['seaice_conc'], label=str(latlon))\n",
    "#         pass\n",
    "#     if eps > 125058 and eps < 125064:\n",
    "#         #plt.plot(series['time'], series['seaice_conc'], label=str(latlon))\n",
    "#         pass\n",
    "#     if eps > 81200 and eps < 81205:\n",
    "#         #plt.plot(series['time'], series['seaice_conc'], label=str(latlon))\n",
    "#         #pass\n",
    "#     eps += 1\n",
    "# plt.legend(loc='center left', bbox_to_anchor=(1, 0.5))\n",
    "# plt.ylabel('seaice_conc')\n",
    "# plt.xlabel('Year')"
   ]
  },
  {
   "cell_type": "code",
   "execution_count": null,
   "metadata": {
    "collapsed": true
   },
   "outputs": [],
   "source": []
  },
  {
   "cell_type": "code",
   "execution_count": null,
   "metadata": {
    "collapsed": true
   },
   "outputs": [],
   "source": [
    "djf_dfs = []\n",
    "djf_lls = []\n",
    "for ll, d in djf_series.items():\n",
    "    djf_dfs += [d.seaice_conc.values[np.newaxis].T]\n",
    "    djf_lls += [str(ll)]\n",
    "    \n",
    "Xdjf = np.hstack(djf_dfs)\n",
    "Xr = ro.r.matrix(Xdjf, nrow=Xdjf.shape[0], ncol=Xdjf.shape[1])\n",
    "ro.r.assign(\"Xdjf\", Xr)\n",
    "Xr.colnames = ro.StrVector(djf_lls)"
   ]
  },
  {
   "cell_type": "code",
   "execution_count": null,
   "metadata": {
    "collapsed": true
   },
   "outputs": [],
   "source": [
    "def plot_mvts(x, norm=\"internal\"):\n",
    "    with grdevices.render_to_bytesio(grdevices.png,width=2048,height=2048,res=300) as img:\n",
    "        mvts.mvtsplot(x, norm=norm)\n",
    "    display(Image(data=img.getvalue(), format='png', embed=True))"
   ]
  },
  {
   "cell_type": "code",
   "execution_count": null,
   "metadata": {
    "collapsed": false
   },
   "outputs": [],
   "source": [
    "X50 = Xr.rx(True, ro.IntVector(list(range(1,100))))\n",
    "plot_mvts(X50)"
   ]
  },
  {
   "cell_type": "code",
   "execution_count": null,
   "metadata": {
    "collapsed": false
   },
   "outputs": [],
   "source": [
    "X63 = Xr.rx(True, ro.IntVector(list(range(30000,30100))))\n",
    "plot_mvts(X63)"
   ]
  },
  {
   "cell_type": "code",
   "execution_count": null,
   "metadata": {
    "collapsed": false
   },
   "outputs": [],
   "source": [
    "plot_mvts(X63, norm=\"global\")"
   ]
  },
  {
   "cell_type": "code",
   "execution_count": null,
   "metadata": {
    "collapsed": false
   },
   "outputs": [],
   "source": [
    "idxs = list(range(30000, 30050)) + list(range(60000, 60050))\n",
    "X63vs75 = Xr.rx(True, ro.IntVector(idxs))\n",
    "plot_mvts(X63vs75)"
   ]
  },
  {
   "cell_type": "code",
   "execution_count": null,
   "metadata": {
    "collapsed": false
   },
   "outputs": [],
   "source": [
    "plot_mvts(X63vs75, norm=\"global\")"
   ]
  },
  {
   "cell_type": "code",
   "execution_count": null,
   "metadata": {
    "collapsed": true
   },
   "outputs": [],
   "source": []
  }
 ],
 "metadata": {
  "kernelspec": {
   "display_name": "Python 3",
   "language": "python",
   "name": "python3"
  },
  "language_info": {
   "codemirror_mode": {
    "name": "ipython",
    "version": 3
   },
   "file_extension": ".py",
   "mimetype": "text/x-python",
   "name": "python",
   "nbconvert_exporter": "python",
   "pygments_lexer": "ipython3",
   "version": "3.6.0"
  }
 },
 "nbformat": 4,
 "nbformat_minor": 2
}
