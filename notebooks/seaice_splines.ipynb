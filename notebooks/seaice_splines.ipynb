{
 "cells": [
  {
   "cell_type": "code",
   "execution_count": 1,
   "metadata": {
    "collapsed": true
   },
   "outputs": [],
   "source": [
    "%matplotlib inline"
   ]
  },
  {
   "cell_type": "code",
   "execution_count": 2,
   "metadata": {
    "collapsed": true
   },
   "outputs": [],
   "source": [
    "import numpy as np\n",
    "import xarray as xr\n",
    "import pandas as pd\n",
    "\n",
    "import scipy.spatial\n",
    "import scipy.linalg\n",
    "import scipy as sp\n",
    "from scipy import signal\n",
    "import scipy.stats as stats\n",
    "\n",
    "import statsmodels.api as sm\n",
    "import statsmodels.formula.api as smf\n",
    "import statsmodels.sandbox.stats.multicomp as smm\n",
    "import statsmodels.tsa.stattools as tsa\n",
    "import statsmodels.tsa.arima_model as arima\n",
    "from statsmodels.stats.diagnostic import acorr_ljungbox as ljungbox\n",
    "\n",
    "import matplotlib\n",
    "matplotlib.rcParams['text.usetex'] = True\n",
    "matplotlib.rcParams['text.latex.unicode'] = True\n",
    "import matplotlib.pyplot as plt\n",
    "import seaborn as sns\n",
    "current_palette = sns.color_palette(\"hls\", 8)\n",
    "sns.set_palette(current_palette)"
   ]
  },
  {
   "cell_type": "code",
   "execution_count": 3,
   "metadata": {
    "collapsed": true
   },
   "outputs": [],
   "source": [
    "#plt.style.available"
   ]
  },
  {
   "cell_type": "code",
   "execution_count": 4,
   "metadata": {
    "collapsed": true
   },
   "outputs": [],
   "source": [
    "def set_style():\n",
    "    plt.style.use(['seaborn-white', 'seaborn-paper'])\n",
    "    matplotlib.rc(\"font\", family=\"Times New Roman\")"
   ]
  },
  {
   "cell_type": "code",
   "execution_count": 5,
   "metadata": {
    "collapsed": false
   },
   "outputs": [],
   "source": [
    "#set_style()"
   ]
  },
  {
   "cell_type": "code",
   "execution_count": 6,
   "metadata": {
    "collapsed": true
   },
   "outputs": [],
   "source": [
    "# Load the data\n",
    "# wget ftp://sidads.colorado.edu/pub/DATASETS/NOAA/G10010/G10010_SIBT1850_v1.1.zip\n",
    "nc = xr.open_dataset('../data/G10010_SIBT1850_v1.1.nc')"
   ]
  },
  {
   "cell_type": "code",
   "execution_count": 7,
   "metadata": {
    "collapsed": true
   },
   "outputs": [],
   "source": [
    "# Average out years\n",
    "yr_avg = nc.seaice_conc.groupby('time.year').mean()\n",
    "\n",
    "# Separate into seasons\n",
    "seasons = nc.seaice_conc.groupby('time.season').mean('latitude').mean('longitude')\n",
    "seas_df = seasons.to_dataframe()\n",
    "seas_df = seas_df.groupby([lambda x: x.year, 'season']).mean()\n",
    "seas_df = seas_df.reset_index()\n",
    "\n",
    "djf_df = seas_df.loc[seas_df['season'] == 'DJF']\n",
    "jja_df = seas_df.loc[seas_df['season'] == 'JJA']\n",
    "mam_df = seas_df.loc[seas_df['season'] == 'MAM']\n",
    "son_df = seas_df.loc[seas_df['season'] == 'SON']\n",
    "\n",
    "djf_df.reset_index(inplace=True)\n",
    "jja_df.reset_index(inplace=True)\n",
    "mam_df.reset_index(inplace=True)\n",
    "son_df.reset_index(inplace=True)\n",
    "\n",
    "del djf_df['index']\n",
    "del jja_df['index']\n",
    "del mam_df['index']\n",
    "del son_df['index']\n",
    "\n",
    "djf_df.columns = ['year', 'season', 'seaice_conc']\n",
    "jja_df.columns = ['year', 'season', 'seaice_conc']\n",
    "mam_df.columns = ['year', 'season', 'seaice_conc']\n",
    "son_df.columns = ['year', 'season', 'seaice_conc']\n",
    "\n",
    "del djf_df['season']\n",
    "del jja_df['season']\n",
    "del mam_df['season']\n",
    "del son_df['season']\n",
    "\n"
   ]
  },
  {
   "cell_type": "code",
   "execution_count": null,
   "metadata": {
    "collapsed": true
   },
   "outputs": [],
   "source": [
    "seasons = ['JJA', 'SON', 'DJF', 'MAM']\n",
    "dfs = {'DJF': djf_df, 'JJA': jja_df, 'MAM': mam_df, 'SON': son_df}"
   ]
  },
  {
   "cell_type": "code",
   "execution_count": null,
   "metadata": {
    "collapsed": true
   },
   "outputs": [],
   "source": [
    "cmap = {'JJA': 'crimson', 'SON': 'darkorange', 'DJF': 'steelblue', 'MAM': 'seagreen'}"
   ]
  },
  {
   "cell_type": "markdown",
   "metadata": {},
   "source": [
    "## Arctic splines\n",
    "\n",
    "Since the arctic sea data set is such a long time series, we'll compute linear splines to get a piecewise trend of the data.\n",
    "\n",
    "#### Definitions:\n",
    "\n",
    "* A **linear spline** is a continuous function formed by connecting linear\n",
    "segments.  The points where the segments connect are called the\n",
    "**knots** of the spline.\n",
    "\n",
    "* A **spline of degree** $D$ is a function formed by connecting polynomial segments\n",
    "of degree $D$ so that:\n",
    "    * the function is continuous,\n",
    "    * the function has $D-1$ continuous derivatives,\n",
    "    * the $D^{\\text{th}}$ derivative is constant between knots\n",
    "\n",
    "* The **truncated polynomial** of degree $D$ associated with knot $\\xi_{k}$ is the function which is equal to $0$ to the left of $\\xi_{k}$ and equal to $(x-\\xi_{k})^D$ to the right of $\\xi_{k}$.\n",
    "\n",
    "$$(x-\\xi_{k})_{+}^D = \n",
    "\\begin{cases}\n",
    "(x-\\xi_{k})^D, & \\text{if $x \\geq \\xi_{k}$} \\\\\n",
    "0, & \\text{if $x \\lt \\xi_{k}$}\n",
    "\\end{cases}\n",
    "$$\n",
    "\n",
    "\n",
    "#### Equation of spline of degree $D=1$ and $K$ knots:\n",
    "\n",
    "$$y = \\beta_{0} + \\beta_{1}x + \\sum_{k=1}^{K}b_{k}(x-\\xi_{k})_{+}$$\n",
    "\n",
    "#### Design Matrix:\n",
    "$$\n",
    "\\mathbf{X} = \n",
    "\\begin{bmatrix}\n",
    "1 & x_1 & (x_{1}-\\xi_{1})_{+} & \\dots & (x_{1}-\\xi_{K})_{+} \\\\\n",
    "1 & x_2 & (x_{2}-\\xi_{1})_{+} & \\dots & (x_{2}-\\xi_{K})_{+} \\\\\n",
    "\\vdots & \\vdots  & \\vdots & \\ddots & \\vdots \\\\\n",
    "1 & x_n  & (x_{n}-\\xi_{1})_{+} & \\dots & (x_{n}-\\xi_{K})_{+}\n",
    "\\end{bmatrix}\n",
    "$$"
   ]
  },
  {
   "cell_type": "code",
   "execution_count": null,
   "metadata": {
    "collapsed": true
   },
   "outputs": [],
   "source": [
    "def linear_splines(data, knots, degree=1):\n",
    "    minyr = data.year.min()\n",
    "    nyrs = data.year.shape[0]\n",
    "\n",
    "    # Use indices of years for knots\n",
    "    minyr = data.year.min()\n",
    "    knots2 = [k-minyr for k in knots]\n",
    "    \n",
    "    # Column vector for beta1 are (t1, t2,...,tn)\n",
    "    X1 = np.arange(nyrs)\n",
    "    X1 = X1[:, np.newaxis]\n",
    "    \n",
    "    # Generate design matrix\n",
    "    X2 = np.zeros((nyrs, len(knots2)))\n",
    "    for col, k in enumerate(knots2):\n",
    "        X2[k:, col] = np.abs(X2[k:, col] - X1[:nyrs-k, 0])\n",
    "    X = np.hstack((X1, X2))\n",
    "    return smf.glm('seaice_conc ~ X', data=data).fit()"
   ]
  },
  {
   "cell_type": "markdown",
   "metadata": {},
   "source": [
    "### Knots for Arctic sea\n",
    "\n",
    "From the explore_seaice notebook, the trends look peicewise with possible knots at various locations. We'll define our set of knots for each season:\n",
    "\n",
    "$$\n",
    "K_{\\text{JJA}} = \\{1917, 1944, 1996\\}\\\\\n",
    "K_{\\text{SON}} = \\{1917, 1943, 1996\\}\\\\\n",
    "K_{\\text{DJF}} = \\{1974, 1996\\}\\\\\n",
    "K_{\\text{MAM}} = \\{1933, 1979\\}\n",
    "$$\n",
    "\n",
    "We'll plot the knots to visually check"
   ]
  },
  {
   "cell_type": "code",
   "execution_count": null,
   "metadata": {
    "collapsed": false
   },
   "outputs": [],
   "source": [
    "# Define the knots\n",
    "jjaknots = [1935, 1943, 1963,1979, 1997]\n",
    "sonknots = [1915, 1950, 1979, 1997]\n",
    "djfknots = [1935, 1944, 1979, 1997]\n",
    "mamknots = [1896, 1929, 1935, 1953, 1979, 1997]\n",
    "\n",
    "splines = {'JJA': linear_splines(jja_df, jjaknots),\n",
    "           'SON': linear_splines(son_df, sonknots),\n",
    "           'DJF': linear_splines(djf_df, djfknots),\n",
    "           'MAM': linear_splines(mam_df, mamknots)}"
   ]
  },
  {
   "cell_type": "code",
   "execution_count": null,
   "metadata": {
    "collapsed": true
   },
   "outputs": [],
   "source": [
    "def plot_splines(yrs, conc, preds, label, season=None, ax=None, col='g'):\n",
    "    if ax is None:\n",
    "        ax = plt.gca()\n",
    "    spl = ax.plot(yrs, conc, label='data', color='k', linestyle=':')\n",
    "    ax.plot(yrs, preds, label=label, color=col, linewidth=2.5)\n",
    "    #ax.legend(loc=\"upper left\")\n",
    "    ax.legend(bbox_to_anchor=(.95,0.8), loc='upper left', fontsize=14)\n",
    "    ax.set_xlim(1845, 2016)\n",
    "    #ax.set_ylim(17.5, 26)\n",
    "    ax.set_xlabel(r'Year', fontsize=17)\n",
    "    ax.set_ylabel(r'Sea Ice Concentration [\\%]', fontsize=17)\n",
    "    title = 'Linear Splines Trend for {}'.format(season)\n",
    "    ax.set_title(r'\\textbf{' + title + '}', fontsize=19)\n",
    "    ax.set_xticks(np.linspace(1850, 2013, 9, dtype=int))\n",
    "    #yticks = np.linspace(min(preds), max(preds), 6)\n",
    "    #ax.set_yticks(np.round(yticks, 2))\n",
    "    ax.xaxis.set_tick_params(labelsize=13)\n",
    "    ax.yaxis.set_tick_params(labelsize=13)\n",
    "    return spl"
   ]
  },
  {
   "cell_type": "code",
   "execution_count": null,
   "metadata": {
    "collapsed": false
   },
   "outputs": [],
   "source": [
    "f, axs = plt.subplots(2, 2, figsize=(20,12))\n",
    "sns.set_style(\"ticks\")\n",
    "axs = np.array(axs)\n",
    "for i, ax in enumerate(axs.reshape(-1)):\n",
    "    s = seasons[i]\n",
    "    yr = dfs[s].year\n",
    "    conc = dfs[s].seaice_conc\n",
    "    preds = splines[s].fittedvalues\n",
    "    plot_splines(yr, conc, preds, 'trend', season=s, ax=ax, col=cmap[s])\n",
    "    \n",
    "plt.subplots_adjust(wspace=20, hspace=5)\n",
    "plt.tight_layout()\n",
    "sns.despine(trim=True)"
   ]
  },
  {
   "cell_type": "code",
   "execution_count": null,
   "metadata": {
    "collapsed": false
   },
   "outputs": [],
   "source": []
  },
  {
   "cell_type": "markdown",
   "metadata": {
    "collapsed": true
   },
   "source": [
    "Visually the splines look reasonable. However, let's test the significance of each spline and remove the splines that are not significicant with a significance level, $\\alpha = 0.05$\n",
    "\n",
    "We'll use Bonferroni's correction for multiple tests."
   ]
  },
  {
   "cell_type": "code",
   "execution_count": null,
   "metadata": {
    "collapsed": true
   },
   "outputs": [],
   "source": [
    "#splines['JJA'].summary()"
   ]
  },
  {
   "cell_type": "code",
   "execution_count": null,
   "metadata": {
    "collapsed": true
   },
   "outputs": [],
   "source": [
    "#f = splines['JJA']"
   ]
  },
  {
   "cell_type": "code",
   "execution_count": null,
   "metadata": {
    "collapsed": true
   },
   "outputs": [],
   "source": [
    "#f.resid_response.values"
   ]
  },
  {
   "cell_type": "code",
   "execution_count": null,
   "metadata": {
    "collapsed": true
   },
   "outputs": [],
   "source": [
    "nyrs = yr_avg.shape[0]\n",
    "#nparams = len(knots) + 2\n",
    "\n",
    "# Estimates\n",
    "mu_hat = {season: spl.mu for season, spl in splines.items()}\n",
    "R = {season: spl.resid_response.values for season, spl in splines.items()}\n",
    "cov = {season: spl.cov_params() for season, spl in splines.items()}\n",
    "#sigma_hat2 = {season: np.sum(r**2) / (nyrs-nparams) for season, r in R.items()}\n",
    "pvals = {season: spl.pvalues.values for season, spl in splines.items()}"
   ]
  },
  {
   "cell_type": "code",
   "execution_count": null,
   "metadata": {
    "collapsed": false
   },
   "outputs": [],
   "source": [
    "bonferonnis = {season: (smm.multipletests(pval, method='fdr_tsbh')[:2])\n",
    "               for season, pval in pvals.items()}"
   ]
  },
  {
   "cell_type": "code",
   "execution_count": null,
   "metadata": {
    "collapsed": false
   },
   "outputs": [],
   "source": [
    "for season, test in bonferonnis.items():\n",
    "    print('{}: {}'.format(season, test[0]))"
   ]
  },
  {
   "cell_type": "markdown",
   "metadata": {},
   "source": [
    "We see some splines are not significant. We'll remove those and recompute our model. Our new knots are now:\n",
    "\n",
    "$$\n",
    "K_{\\text{JJA}} = \\{1944, 1996\\}\\\\\n",
    "K_{\\text{SON}} = \\{1917, 1996\\}\\\\\n",
    "K_{\\text{DJF}} = \\{1996\\}\\\\\n",
    "K_{\\text{MAM}} = \\{1933, 1979\\}\n",
    "$$\n"
   ]
  },
  {
   "cell_type": "code",
   "execution_count": null,
   "metadata": {
    "collapsed": true
   },
   "outputs": [],
   "source": [
    "# Splines with new knots... Pt.2\n",
    "jjaknots2 = [1935, 1943,1979, 1997]\n",
    "sonknots2 = sonknots\n",
    "djfknots2 = [1997]\n",
    "mamknots2 = [1935, 1953, 1979, 1997]\n",
    "\n",
    "splines2 = {'JJA': linear_splines(jja_df, jjaknots2),\n",
    "           'SON': linear_splines(son_df, sonknots2),\n",
    "           'DJF': linear_splines(djf_df, djfknots2),\n",
    "           'MAM': linear_splines(mam_df, mamknots2)}"
   ]
  },
  {
   "cell_type": "code",
   "execution_count": null,
   "metadata": {
    "collapsed": false
   },
   "outputs": [],
   "source": [
    "f, axs = plt.subplots(2, 2, figsize=(15,10))\n",
    "axs = np.array(axs)\n",
    "\n",
    "for i, ax in enumerate(axs.reshape(-1)):\n",
    "    s = seasons[i]\n",
    "    yr = dfs[s].year\n",
    "    conc = dfs[s].seaice_conc\n",
    "    preds = splines2[s].fittedvalues\n",
    "    plot_splines(yr, conc, preds, 'splines', season=s, ax=ax, col=cmap[s])"
   ]
  },
  {
   "cell_type": "code",
   "execution_count": null,
   "metadata": {
    "collapsed": false
   },
   "outputs": [],
   "source": [
    "# Estimates Pt.2\n",
    "mu_hat2 = {season: spl.mu for season, spl in splines2.items()}\n",
    "R2 = {season: spl.resid_response.values for season, spl in splines2.items()}\n",
    "cov2 = {season: spl.cov_params() for season, spl in splines2.items()}\n",
    "pvals2 = {season: spl.pvalues.values for season, spl in splines2.items()}\n",
    "\n",
    "bonferonnis2 = {season: (smm.multipletests(pval, method='bonferroni')[:2])\n",
    "               for season, pval in pvals2.items()}\n",
    "\n",
    "for season, test in bonferonnis2.items():\n",
    "    print('{}: {}'.format(season, test[0]))"
   ]
  },
  {
   "cell_type": "markdown",
   "metadata": {},
   "source": [
    "Once again, we see some splines that don't make the cut. We'll remove those, and recompute our model. Our knots are now:\n",
    "\n",
    "$$\n",
    "K_{\\text{JJA}} = \\{1996\\}\\\\\n",
    "K_{\\text{SON}} = \\{1996\\}\\\\\n",
    "K_{\\text{DJF}} = \\{1996\\}\\\\\n",
    "K_{\\text{MAM}} = \\{1933, 1979\\}\n",
    "$$\n"
   ]
  },
  {
   "cell_type": "code",
   "execution_count": null,
   "metadata": {
    "collapsed": false
   },
   "outputs": [],
   "source": [
    "%%javascript\n",
    "IPython.OutputArea.prototype._should_scroll = function(lines) {\n",
    "    return false;\n",
    "}"
   ]
  },
  {
   "cell_type": "code",
   "execution_count": null,
   "metadata": {
    "collapsed": false
   },
   "outputs": [],
   "source": [
    "# Estimates Pt.3\n",
    "#jjaknots3 = [1997]\n",
    "#sonknots3 = [1997]\n",
    "#djfknots3 = [1997]\n",
    "#mamknots3 = [1933, 1979]\n",
    "\n",
    "jjaknots3 = [1917, 1943,1997]\n",
    "sonknots3 = [1915, 1950, 1980, 1997]\n",
    "djfknots3 = [1997]\n",
    "mamknots3 = [1935, 1980]\n",
    "\n",
    "\n",
    "splines3 = {'DJF': linear_splines(djf_df, djfknots3),\n",
    "           'MAM': linear_splines(mam_df, mamknots3),\n",
    "           'JJA': linear_splines(jja_df, jjaknots3),\n",
    "           'SON': linear_splines(son_df, sonknots3)}\n",
    "\n",
    "f, axs = plt.subplots(2, 2, figsize=(20,12))\n",
    "sns.set_style(\"ticks\")\n",
    "\n",
    "axs = np.array(axs)\n",
    "\n",
    "for i, ax in enumerate(axs.reshape(-1)):\n",
    "    s = seasons[i]\n",
    "    yr = dfs[s].year\n",
    "    conc = dfs[s].seaice_conc\n",
    "    preds = splines3[s].fittedvalues\n",
    "    plot_splines(yr, conc, preds, 'trend', season=s, ax=ax, col=cmap[s])\n",
    "    \n",
    "f.subplots_adjust(wspace=20, hspace=5)\n",
    "f.tight_layout()\n",
    "sns.despine(trim=True)\n",
    "\n",
    "f.savefig('/home/hflores/repos/ArcticSea/writeup/figs/trends.eps', format='eps', \n",
    "          dpi=1200, bbox_inches='tight')"
   ]
  },
  {
   "cell_type": "code",
   "execution_count": null,
   "metadata": {
    "collapsed": false
   },
   "outputs": [],
   "source": [
    "# Bonferonnis Pt.3\n",
    "mu_hat3 = {season: spl.mu for season, spl in splines3.items()}\n",
    "R3 = {season: spl.resid_response.values for season, spl in splines3.items()}\n",
    "cov3 = {season: spl.cov_params() for season, spl in splines3.items()}\n",
    "pvals3 = {season: spl.pvalues.values for season, spl in splines3.items()}\n",
    "\n",
    "bonferonnis3 = {season: (smm.multipletests(pval, method='fdr_tsbh')[:2])\n",
    "               for season, pval in pvals3.items()}\n",
    "\n",
    "for season, test in bonferonnis3.items():\n",
    "    print('{}: {}'.format(season, test[0]))"
   ]
  },
  {
   "cell_type": "markdown",
   "metadata": {},
   "source": [
    "Finally! We have a set of knots that are significant."
   ]
  },
  {
   "cell_type": "markdown",
   "metadata": {},
   "source": [
    "# Test our detrended series for stationarity\n",
    "\n",
    "1. Plot our detrended series\n",
    "2. Perform the Augmented Dickey-Fuller test \n",
    "    * Check p-values (if p-value is < 0.05, hence the data is staionary)"
   ]
  },
  {
   "cell_type": "code",
   "execution_count": null,
   "metadata": {
    "collapsed": true
   },
   "outputs": [],
   "source": [
    "# Rename R3 to something more meaningful: residuals\n",
    "residuals = R3"
   ]
  },
  {
   "cell_type": "markdown",
   "metadata": {},
   "source": [
    "### 1. Plot detrended series"
   ]
  },
  {
   "cell_type": "code",
   "execution_count": null,
   "metadata": {
    "collapsed": false
   },
   "outputs": [],
   "source": [
    "f, axs = plt.subplots(2, 2, figsize=(25,20))\n",
    "\n",
    "axs[0,0].plot(residuals['JJA'], color=cmap['JJA'])\n",
    "axs[0,0].set_title(r'\\textbf{JJA - Detrended Series}', fontsize=16)\n",
    "\n",
    "\n",
    "axs[0,1].plot(residuals['SON'], color=cmap['SON'])\n",
    "axs[0,1].set_title(r'\\textbf{SON - Detrended Series}', fontsize=16)\n",
    "\n",
    "\n",
    "axs[1,0].plot(residuals['DJF'], color=cmap['DJF'])\n",
    "axs[1,0].set_title(r'\\textbf{DJF - Detrended Series}', fontsize=16)\n",
    "\n",
    "axs[1,1].plot(residuals['MAM'], color=cmap['MAM'])\n",
    "axs[1,1].set_title(r'\\textbf{MAM - Detrended Series}', fontsize=16)\n"
   ]
  },
  {
   "cell_type": "markdown",
   "metadata": {},
   "source": [
    "### 2. Augmented Dickey-Fuller test for stationarity"
   ]
  },
  {
   "cell_type": "code",
   "execution_count": null,
   "metadata": {
    "collapsed": true
   },
   "outputs": [],
   "source": []
  },
  {
   "cell_type": "code",
   "execution_count": null,
   "metadata": {
    "collapsed": true
   },
   "outputs": [],
   "source": [
    "def test_stationarity(timeseries, label='Original', ax=None):\n",
    "    if ax is None:\n",
    "        ax = plt.gca()\n",
    "    \n",
    "    #Determing rolling statistics\n",
    "    rolmean = pd.rolling_mean(timeseries, window=15)\n",
    "    rolstd = pd.rolling_std(timeseries, window=15)\n",
    "\n",
    "    #Plot rolling statistics:\n",
    "    orig = ax.plot(timeseries, color='k', alpha=0.3, label=label)\n",
    "    mean = ax.plot(rolmean, color='darkred', label='Rolling Mean')\n",
    "    std = ax.plot(rolstd, color='darkorange', label = 'Rolling Std')\n",
    "    ax.legend(loc='best')\n",
    "    ax.set_title('Rolling Mean & Standard Deviation')\n",
    "    #ax.show(block=False)\n",
    "    \n",
    "    #Perform Dickey-Fuller test:\n",
    "    print('Results of Dickey-Fuller Test:')\n",
    "    dftest = tsa.adfuller(timeseries, autolag='AIC')\n",
    "    dfoutput = pd.Series(dftest[0:4], index=['Test Statistic','p-value','#Lags Used','Number of Observations Used'])\n",
    "    for key,value in dftest[4].items():\n",
    "        dfoutput['Critical Value (%s)'%key] = value\n",
    "    print(dfoutput)"
   ]
  },
  {
   "cell_type": "code",
   "execution_count": null,
   "metadata": {
    "collapsed": false
   },
   "outputs": [],
   "source": [
    "test_stationarity(residuals['SON'])"
   ]
  },
  {
   "cell_type": "code",
   "execution_count": null,
   "metadata": {
    "collapsed": true
   },
   "outputs": [],
   "source": [
    "# MacKinnon’s approximate p-value based on MacKinnon (1994, 2010)\n",
    "ad_pvalues = {season: tsa.adfuller(resid)[1] for season, resid in residuals.items()}"
   ]
  },
  {
   "cell_type": "code",
   "execution_count": null,
   "metadata": {
    "collapsed": false
   },
   "outputs": [],
   "source": [
    "ad_pvalues"
   ]
  },
  {
   "cell_type": "markdown",
   "metadata": {},
   "source": [
    "All p-values are < 0.05, hence the detrended series are staionary."
   ]
  },
  {
   "cell_type": "markdown",
   "metadata": {},
   "source": [
    "# Determine the type of model\n",
    "\n",
    "We want to determine whether our model is AR(p), MA(q), ARIMA, etc...\n",
    "\n",
    "1. Plot ACF and PACF of our detrended series\n",
    "2. Look at the estimated power spectral density (smoothed periodogram) for periodicity\n",
    "3. From the periodograms determine the frequency for our model."
   ]
  },
  {
   "cell_type": "markdown",
   "metadata": {},
   "source": [
    "### 1. Plot ACFs and PACFs of the residiuals (detrended series) for each season"
   ]
  },
  {
   "cell_type": "code",
   "execution_count": null,
   "metadata": {
    "collapsed": false
   },
   "outputs": [],
   "source": [
    "def plot_corr(acf_x, nlags, col, ax=None, title='Autocorrelation', **kwargs):\n",
    "    def bonferroni_confint(x, alpha=0.05):\n",
    "        nobs = len(x)\n",
    "        confint = sp.stats.norm.ppf(1 - alpha/nobs) / np.sqrt(nobs)\n",
    "        return confint, -confint\n",
    "    \n",
    "    confint = bonferroni_confint(acf_x)\n",
    "    \n",
    "    if ax is None:\n",
    "        ax = plt.gca()\n",
    "        \n",
    "    fig = ax.stem(acf_x, color=col)\n",
    "    plt.setp(fig[1], color=col)\n",
    "    plt.setp(fig[0], 'markersize', 0)\n",
    "    ax.set_title(r\"\\textbf{\" + title + \"}\", fontsize=19)\n",
    "    ax.set_ylim([min(acf_x)-0.3, 1])\n",
    "    ax.set_xlabel(r\"Lag\", fontsize=17)\n",
    "    \n",
    "    if \"pacf\" in title.lower() or \"partial\" in title.lower():\n",
    "        ax.set_ylabel(r\"Partial ACF\", fontsize=17)\n",
    "    else:\n",
    "        ax.set_ylabel(r\"ACF\", fontsize=17)\n",
    "\n",
    "    if confint is not None:\n",
    "        ax.axhline(y=confint[0],xmin=0,xmax=nlags,c='black',linewidth=0.5,linestyle='--',zorder=0)\n",
    "        ax.axhline(y=confint[1],xmin=0,xmax=nlags,c='black',linewidth=0.5,linestyle='--',zorder=0)\n",
    "    return fig"
   ]
  },
  {
   "cell_type": "code",
   "execution_count": null,
   "metadata": {
    "collapsed": true
   },
   "outputs": [],
   "source": [
    "def plot_acf(data, nlags, col, alpha=0.05, ax=None, title='Autocorrelation'):\n",
    "    acf_x, _ = tsa.acf(data, nlags=nlags, alpha=alpha)\n",
    "    return plot_corr(acf_x, nlags=nlags, col=col, ax=ax, title=title)"
   ]
  },
  {
   "cell_type": "code",
   "execution_count": null,
   "metadata": {
    "collapsed": true
   },
   "outputs": [],
   "source": [
    "def plot_pacf(data, nlags, col, alpha=0.05, ax=None, title='Partial Autocorrelation'):\n",
    "    method = 'ywm'\n",
    "    pacf_x, _ = tsa.pacf(data, nlags=nlags, alpha=alpha, method=method)\n",
    "    return plot_corr(pacf_x, nlags=nlags, col=col, ax=ax, title=title)"
   ]
  },
  {
   "cell_type": "code",
   "execution_count": null,
   "metadata": {
    "collapsed": false
   },
   "outputs": [],
   "source": [
    "%%javascript\n",
    "IPython.OutputArea.prototype._should_scroll = function(lines) {\n",
    "    return false;\n",
    "}"
   ]
  },
  {
   "cell_type": "code",
   "execution_count": null,
   "metadata": {
    "collapsed": false
   },
   "outputs": [],
   "source": [
    "cmap['DJF']"
   ]
  },
  {
   "cell_type": "code",
   "execution_count": null,
   "metadata": {
    "collapsed": false
   },
   "outputs": [],
   "source": [
    "# Plot ACFs and PACFs\n",
    "f, axs = plt.subplots(4, 2, figsize=(20,25))\n",
    "\n",
    "plot_acf(residuals['DJF'], nlags=100, ax=axs[0,0], title='DJF - ACF', col=cmap['DJF'])\n",
    "axs[0,0].xaxis.set_tick_params(labelsize=13)\n",
    "axs[0,0].yaxis.set_tick_params(labelsize=13)\n",
    "\n",
    "plot_pacf(residuals['DJF'], nlags=100, ax=axs[0,1], title='DJF - PACF', col=cmap['DJF'])\n",
    "axs[0,1].xaxis.set_tick_params(labelsize=13)\n",
    "axs[0,1].yaxis.set_tick_params(labelsize=13)\n",
    "\n",
    "\n",
    "plot_acf(residuals['MAM'], nlags=100, ax=axs[1,0], title='MAM - ACF', col=cmap['MAM'])\n",
    "axs[1,0].xaxis.set_tick_params(labelsize=13)\n",
    "axs[1,0].yaxis.set_tick_params(labelsize=13)\n",
    "\n",
    "plot_pacf(residuals['MAM'], nlags=100, ax=axs[1,1], title='MAM - PACF', col=cmap['MAM'])\n",
    "axs[1,1].xaxis.set_tick_params(labelsize=13)\n",
    "axs[1,1].yaxis.set_tick_params(labelsize=13)\n",
    "\n",
    "plot_acf(residuals['JJA'], nlags=100, ax=axs[2,0], title='JJA - ACF', col=cmap['JJA'])\n",
    "axs[2,0].xaxis.set_tick_params(labelsize=13)\n",
    "axs[2,0].yaxis.set_tick_params(labelsize=13)\n",
    "\n",
    "plot_pacf(residuals['JJA'], nlags=100, ax=axs[2,1], title='JJA - PACF', col=cmap['JJA'])\n",
    "axs[2,1].xaxis.set_tick_params(labelsize=13)\n",
    "axs[2,1].yaxis.set_tick_params(labelsize=13)\n",
    "\n",
    "plot_acf(residuals['SON'], nlags=100, ax=axs[3,0], title='SON - ACF', col=cmap['SON'])\n",
    "axs[3,0].xaxis.set_tick_params(labelsize=13)\n",
    "axs[3,0].yaxis.set_tick_params(labelsize=13)\n",
    "\n",
    "plot_pacf(residuals['SON'], nlags=100, ax=axs[3,1], title='SON - PACF', col=cmap['SON'])\n",
    "axs[3,1].xaxis.set_tick_params(labelsize=13)\n",
    "axs[3,1].yaxis.set_tick_params(labelsize=13)\n",
    "\n",
    "#sns.despine(trim=True)\n",
    "f.tight_layout()\n",
    "plt.subplots_adjust(wspace=0.15, hspace=0.25)\n",
    "\n",
    "#f.savefig('/home/hflores/repos/ArcticSea/writeup/figs/acfs.eps', format='eps', \n",
    "#          dpi=1200, bbox_inches='tight')"
   ]
  },
  {
   "cell_type": "code",
   "execution_count": null,
   "metadata": {
    "collapsed": false
   },
   "outputs": [],
   "source": [
    "%%javascript\n",
    "IPython.OutputArea.prototype._should_scroll = function(lines) {\n",
    "    return false;\n",
    "}"
   ]
  },
  {
   "cell_type": "code",
   "execution_count": null,
   "metadata": {
    "collapsed": true,
    "scrolled": true
   },
   "outputs": [],
   "source": [
    "# f, axr = plt.subplots(4, 2, figsize=(18,16))\n",
    "\n",
    "# axr[0,0].scatter(jja_df.year, residuals['JJA'], color=cmap['JJA'])\n",
    "# axr[0,0].set_ylabel('Residual')\n",
    "# axr[0,0].set_title('JJA')\n",
    "# axr[0,1].scatter(jja_df.seaice_conc, residuals['JJA'], color=cmap['JJA'])\n",
    "\n",
    "# axr[1,0].scatter(son_df.year, residuals['SON'], color=cmap['SON'])\n",
    "# axr[1,0].set_ylabel('Residual')\n",
    "# axr[1,0].set_title('SON')\n",
    "# axr[1,1].scatter(son_df.seaice_conc, residuals['SON'], color=cmap['SON'])\n",
    "\n",
    "# axr[2,0].scatter(djf_df.year, residuals['DJF'], color=cmap['DJF'])\n",
    "# axr[2,0].set_ylabel('Residual')\n",
    "# axr[2,0].set_title('DJF')\n",
    "# axr[2,1].scatter(djf_df.seaice_conc, residuals['DJF'], color=cmap['DJF'])\n",
    "\n",
    "# axr[3,0].scatter(mam_df.year, residuals['MAM'], color=cmap['MAM'])\n",
    "# axr[3,0].set_ylabel('Residual')\n",
    "# axr[3,0].set_title('MAM')\n",
    "# axr[3,1].scatter(mam_df.seaice_conc, residuals['MAM'], color=cmap['MAM'])\n",
    "\n",
    "# axr[3,0].set_xlabel('Years')\n",
    "# axr[3,1].set_xlabel('Seaice Concentration')"
   ]
  },
  {
   "cell_type": "markdown",
   "metadata": {},
   "source": [
    "### 2. Spectral Density Estimation via Welch's method"
   ]
  },
  {
   "cell_type": "code",
   "execution_count": null,
   "metadata": {
    "collapsed": true
   },
   "outputs": [],
   "source": [
    "# Compute FFT of the residuals\n",
    "# Take the periodogram (abs(R)^2)\n",
    "# Plot the periodogram"
   ]
  },
  {
   "cell_type": "code",
   "execution_count": null,
   "metadata": {
    "collapsed": false
   },
   "outputs": [],
   "source": [
    "#ffts = {season: np.fft.fft(resid) for season, resid in residuals.items()}\n",
    "#periodograms = {season: np.abs(fftr)**2 for season, fftr in ffts.items()}\n",
    "periodograms = {season: signal.welch(resid, window='hann')[1] for season, resid in residuals.items()}"
   ]
  },
  {
   "cell_type": "code",
   "execution_count": null,
   "metadata": {
    "collapsed": false
   },
   "outputs": [],
   "source": [
    "%%javascript\n",
    "IPython.OutputArea.prototype._should_scroll = function(lines) {\n",
    "    return false;\n",
    "}"
   ]
  },
  {
   "cell_type": "code",
   "execution_count": null,
   "metadata": {
    "collapsed": false
   },
   "outputs": [],
   "source": [
    "f, ax = plt.subplots(2, 2, figsize=(18,12))\n",
    "\n",
    "ax[0,0].plot(periodograms['DJF'], color=cmap['DJF'])\n",
    "ax[0,0].set_title(r'\\textbf{DJF Power Spectrum}', fontsize=19)\n",
    "ax[0,0].set_xlabel(r'Frequency', fontsize=17)\n",
    "ax[0,0].set_ylabel(r'PSD Amplitude', fontsize=17)\n",
    "ax[0,0].xaxis.set_tick_params(labelsize=13)\n",
    "ax[0,0].yaxis.set_tick_params(labelsize=13)\n",
    "\n",
    "ax[0,1].plot(periodograms['MAM'], color=cmap['MAM'])\n",
    "ax[0,1].set_title(r'\\textbf{MAM Power Spectrum}', fontsize=19)\n",
    "ax[0,1].set_xlabel(r'Frequency', fontsize=17)\n",
    "ax[0,1].set_ylabel(r'PSD Amplitude', fontsize=17)\n",
    "ax[0,1].xaxis.set_tick_params(labelsize=13)\n",
    "ax[0,1].yaxis.set_tick_params(labelsize=13)\n",
    "\n",
    "ax[1,0].plot(periodograms['JJA'], color=cmap['JJA'])\n",
    "ax[1,0].set_title(r'\\textbf{JJA Power Spectrum}', fontsize=19)\n",
    "ax[1,0].set_xlabel(r'Frequency', fontsize=17)\n",
    "ax[1,0].set_ylabel(r'PSD Amplitude', fontsize=17)\n",
    "ax[1,0].xaxis.set_tick_params(labelsize=13)\n",
    "ax[1,0].yaxis.set_tick_params(labelsize=13)\n",
    "\n",
    "ax[1,1].plot(periodograms['SON'], color=cmap['SON'])\n",
    "ax[1,1].set_title(r'\\textbf{SON Power Spectrum}', fontsize=19)\n",
    "ax[1,1].set_xlabel(r'Frequency', fontsize=17)\n",
    "ax[1,1].set_ylabel(r'PSD Amplitude', fontsize=17)\n",
    "ax[1,1].xaxis.set_tick_params(labelsize=13)\n",
    "ax[1,1].yaxis.set_tick_params(labelsize=13)\n",
    "\n",
    "sns.despine(trim=True)\n",
    "f.tight_layout()\n",
    "plt.subplots_adjust(hspace=0.3)\n",
    "\n",
    "f.savefig('/home/hflores/repos/ArcticSea/writeup/figs/psd.eps', format='eps', \n",
    "          dpi=1200, bbox_inches='tight')"
   ]
  },
  {
   "cell_type": "markdown",
   "metadata": {},
   "source": [
    "### 3. Get peaks to determine the frequency"
   ]
  },
  {
   "cell_type": "code",
   "execution_count": null,
   "metadata": {
    "collapsed": false
   },
   "outputs": [],
   "source": [
    "freqs = {season: np.argmax(psd) for season, psd in periodograms.items()}\n",
    "freqs"
   ]
  },
  {
   "cell_type": "code",
   "execution_count": null,
   "metadata": {
    "collapsed": true
   },
   "outputs": [],
   "source": [
    "t1 = yr_avg.year.values\n",
    "nyrs = t1.max() - t1.min() + 1"
   ]
  },
  {
   "cell_type": "markdown",
   "metadata": {},
   "source": [
    "# JJA"
   ]
  },
  {
   "cell_type": "code",
   "execution_count": null,
   "metadata": {
    "collapsed": true
   },
   "outputs": [],
   "source": [
    "y_jja = jja_df.seaice_conc.values\n",
    "sin4_jja = np.array([np.sin(2*np.pi* 4 * (t/nyrs)) for t in np.arange(nyrs)])\n",
    "cos4_jja = np.array([np.cos(2*np.pi* 4 * (t/nyrs)) for t in np.arange(nyrs)])\n",
    "\n",
    "sin21_jja = np.array([np.sin(2*np.pi* 21 * (t/nyrs)) for t in np.arange(nyrs)])\n",
    "cos21_jja = np.array([np.cos(2*np.pi* 21 * (t/nyrs)) for t in np.arange(nyrs)])\n",
    "\n",
    "sin3_jja = np.array([np.sin(2*np.pi* 3 * (t/nyrs)) for t in np.arange(nyrs)])\n",
    "cos3_jja = np.array([np.cos(2*np.pi* 3 * (t/nyrs)) for t in np.arange(nyrs)])\n",
    "\n",
    "sin22_jja = np.array([np.sin(2*np.pi* 22 * (t/nyrs)) for t in np.arange(nyrs)])\n",
    "cos22_jja = np.array([np.cos(2*np.pi* 22 * (t/nyrs)) for t in np.arange(nyrs)])\n",
    "\n",
    "sin10_jja = np.array([np.sin(2*np.pi* 10 * (t/nyrs)) for t in np.arange(nyrs)])\n",
    "cos10_jja = np.array([np.cos(2*np.pi* 10 * (t/nyrs)) for t in np.arange(nyrs)])"
   ]
  },
  {
   "cell_type": "code",
   "execution_count": null,
   "metadata": {
    "collapsed": false
   },
   "outputs": [],
   "source": [
    "fit_jja = smf.glm(\n",
    "    'y_jja ~ sin4_jja + cos4_jja + \\\n",
    "    sin21_jja + cos21_jja + \\\n",
    "    sin3_jja + cos3_jja + \\\n",
    "    sin22_jja + cos22_jja +\\\n",
    "    sin10_jja + cos10_jja',data=jja_df).fit()\n",
    "fit_jja.summary()"
   ]
  },
  {
   "cell_type": "markdown",
   "metadata": {},
   "source": [
    "**NOTE: sine and cosine are significant**"
   ]
  },
  {
   "cell_type": "code",
   "execution_count": null,
   "metadata": {
    "collapsed": false
   },
   "outputs": [],
   "source": [
    "print(fit_jja.params)\n",
    "k_hat_jja = fit_jja.params.values  # extract fitted regression coefficients\n",
    "e_jja = fit_jja.resid_response    # extract raw residuals"
   ]
  },
  {
   "cell_type": "code",
   "execution_count": null,
   "metadata": {
    "collapsed": false
   },
   "outputs": [],
   "source": [
    "# Check to see if the mean of residuals are numerically close to 0\n",
    "print(np.mean(e_jja))"
   ]
  },
  {
   "cell_type": "code",
   "execution_count": null,
   "metadata": {
    "collapsed": false
   },
   "outputs": [],
   "source": [
    "plt.plot(jja_df.year, e_jja, color=cmap['JJA'])"
   ]
  },
  {
   "cell_type": "markdown",
   "metadata": {},
   "source": [
    "### Fit seasonal cycle with significant terms (sine and cosine)"
   ]
  },
  {
   "cell_type": "code",
   "execution_count": null,
   "metadata": {
    "collapsed": false
   },
   "outputs": [],
   "source": [
    "# fitted seasonal cycle\n",
    "f_hat_jja = k_hat_jja[0] + k_hat_jja[5]*sin3_jja + k_hat_jja[6]*cos3_jja +\\\n",
    "            k_hat_jja[9]*sin10_jja+ k_hat_jja[10]*cos10_jja\n",
    "plt.plot(f_hat_jja,'k-') "
   ]
  },
  {
   "cell_type": "code",
   "execution_count": null,
   "metadata": {
    "collapsed": true
   },
   "outputs": [],
   "source": [
    "# Remove residuals and subtract mean for second order residuals: R^2\n",
    "resid2_jja = residuals['JJA'] - f_hat_jja\n",
    "resid2_jja = resid2_jja - np.mean(resid2_jja)"
   ]
  },
  {
   "cell_type": "code",
   "execution_count": null,
   "metadata": {
    "collapsed": false
   },
   "outputs": [],
   "source": [
    "f, axs = plt.subplots(1, 2, figsize=(14,6))\n",
    "\n",
    "plot_acf(resid2_jja, nlags=100, ax=axs[0], title='JJA - ACF', col='r')\n",
    "plot_pacf(resid2_jja, nlags=100, ax=axs[1], title='JJA - PACF', col='r')\n",
    "\n",
    "#f.savefig('/home/hflores/repos/kaust_presentation/jja_acf.eps', format='eps', \n",
    "#          dpi=1200, bbox_inches='tight')"
   ]
  },
  {
   "cell_type": "code",
   "execution_count": null,
   "metadata": {
    "collapsed": false
   },
   "outputs": [],
   "source": [
    "# Fit AR1 & AR2 model\n",
    "fit_jja_ar1 = arima.ARIMA(resid2_jja, (1,0,0)).fit()\n",
    "fit_jja_ar2 = arima.ARIMA(resid2_jja, (2,0,0)).fit()\n",
    "fit_jja_ar3 = arima.ARIMA(resid2_jja, (3,0,0)).fit()\n",
    "fit_jja_arma21 = arima.ARIMA(resid2_jja, (2,0,1)).fit()\n",
    "print(fit_jja_ar1.summary())\n",
    "print(fit_jja_ar2.summary())\n",
    "print(fit_jja_ar3.summary())\n",
    "print(fit_jja_arma21.summary())"
   ]
  },
  {
   "cell_type": "markdown",
   "metadata": {},
   "source": [
    "**NOTE: Choose AR(2) since it has lower AIC and BIC**"
   ]
  },
  {
   "cell_type": "code",
   "execution_count": null,
   "metadata": {
    "collapsed": false
   },
   "outputs": [],
   "source": [
    "def ts_diagnostics(fit, col, title='Season', save=None):\n",
    "    # Removes fitted terms from residuals\n",
    "    def ar_residuals(fit):\n",
    "        e = fit.resid\n",
    "        phi_hat = fit.arparams\n",
    "        \n",
    "        if ar == 1:\n",
    "            return e[1:] - phi_hat*e[:-1]\n",
    "            \n",
    "        X1 = e[1:]\n",
    "        X2 = e[:-1]\n",
    "        \n",
    "        # Make column vector\n",
    "        X1 = X1[:,np.newaxis]\n",
    "        X2 = X2[:,np.newaxis]\n",
    "        \n",
    "        X = np.hstack((X1, X2))\n",
    "        e_ar = e[1:] - np.dot(X, phi_hat)\n",
    "        return e_ar\n",
    "    \n",
    "    #e_ar = ar_residuals(fit)\n",
    "    e_ar = fit.resid\n",
    "    x = np.arange(len(e_ar))\n",
    "    \n",
    "    import matplotlib.gridspec as gridspec\n",
    "    f = plt.figure(figsize=(14,14))\n",
    "    sns.set_style(\"ticks\")\n",
    "    gs = gridspec.GridSpec(3, 2)\n",
    "    ax1 = plt.subplot(gs[0,:])\n",
    "    ax2 = plt.subplot(gs[1,0])\n",
    "    ax3 = plt.subplot(gs[1,1])\n",
    "    ax4 = plt.subplot(gs[2,0])\n",
    "    ax5 = plt.subplot(gs[2,1])\n",
    "    \n",
    "    ax1.plot(list(range(1850, 2014)), e_ar, color=col)\n",
    "    r\"\\textbf{\" + title + \"}\"\n",
    "    ax1.set_title(r'\\textbf{' + title + ' Residuals}', fontsize=19)\n",
    "    ax1.set_xticks(np.linspace(1850, 2013, 9, dtype=int))\n",
    "    ax1.set_xlabel(r'Year', fontsize=17)\n",
    "    ax1.xaxis.set_tick_params(labelsize=13)\n",
    "    ax1.yaxis.set_tick_params(labelsize=13)\n",
    "\n",
    "    \n",
    "    plot_acf(e_ar, nlags=len(e_ar)-1, col=col, title=title+\" ACF\", ax=ax2)\n",
    "    ax2.xaxis.set_tick_params(labelsize=13)\n",
    "    ax2.yaxis.set_tick_params(labelsize=13)\n",
    "    \n",
    "    plot_pacf(e_ar, nlags=len(e_ar)-1, col=col, title=title+\" PACF\", ax=ax3)\n",
    "    ax3.xaxis.set_tick_params(labelsize=13)\n",
    "    ax3.yaxis.set_tick_params(labelsize=13)\n",
    "    \n",
    "    lb = ljungbox(e_ar, 10)[1]\n",
    "    ax4.scatter(list(range(1,11)), lb, color=col)\n",
    "    ax4.set_ylim(min(lb)-0.05, max(lb)+0.05)\n",
    "    yticks = np.linspace(min(lb), max(lb), 6)\n",
    "    ax4.set_yticks(np.round(yticks, 3))\n",
    "    ax4.set_title(r'\\textbf{P-values for Ljung-Box statistic}', fontsize=19)\n",
    "    ax4.set_xlabel(r'Lag', fontsize=17)\n",
    "    ax4.xaxis.set_tick_params(labelsize=13)\n",
    "    ax4.yaxis.set_tick_params(labelsize=13)\n",
    "    \n",
    "    stats.probplot(e_ar, dist=\"norm\", plot=ax5)\n",
    "    ax5.set_title(r'\\textbf{QQ Plot of Residuals}', fontsize=19)\n",
    "    ax5.set_xlabel(r'Theoretical quantiles', fontsize=17)\n",
    "    ax5.set_ylabel(r'Ordered Values', fontsize=17)\n",
    "    ax5.xaxis.set_tick_params(labelsize=13)\n",
    "    ax5.yaxis.set_tick_params(labelsize=13)\n",
    "\n",
    "    f.subplots_adjust(wspace=0.25, hspace=0.5)\n",
    "    f.tight_layout()\n",
    "    sns.despine()\n",
    "    \n",
    "    \n",
    "    if save:\n",
    "        fname = '../writeup/figs/{}.eps'.format(save)\n",
    "        f.savefig(fname, format='eps', dpi=1200, bbox_inches='tight')\n",
    "    return e_ar"
   ]
  },
  {
   "cell_type": "code",
   "execution_count": null,
   "metadata": {
    "collapsed": false
   },
   "outputs": [],
   "source": [
    "e_ar_jja = ts_diagnostics(fit_jja_ar2, col=cmap['JJA'], title=\"JJA - AR(2)\", save='jja_res')"
   ]
  },
  {
   "cell_type": "code",
   "execution_count": null,
   "metadata": {
    "collapsed": false
   },
   "outputs": [],
   "source": []
  },
  {
   "cell_type": "code",
   "execution_count": null,
   "metadata": {
    "collapsed": false
   },
   "outputs": [],
   "source": [
    "ks_results = scipy.stats.kstest(e_ar_jja, cdf='norm')\n",
    "ks_results"
   ]
  },
  {
   "cell_type": "code",
   "execution_count": null,
   "metadata": {
    "collapsed": false
   },
   "outputs": [],
   "source": [
    "jja_predict = fit_jja_ar2.predict()\n",
    "\n",
    "plt.plot(jja_predict, 'r--')\n",
    "plt.plot(residuals['JJA'], color='k', alpha=0.4)"
   ]
  },
  {
   "cell_type": "markdown",
   "metadata": {},
   "source": [
    "# SON"
   ]
  },
  {
   "cell_type": "code",
   "execution_count": null,
   "metadata": {
    "collapsed": false
   },
   "outputs": [],
   "source": [
    "periodograms['SON'].argsort()[-5:][::-1]"
   ]
  },
  {
   "cell_type": "code",
   "execution_count": null,
   "metadata": {
    "collapsed": true
   },
   "outputs": [],
   "source": [
    "y_son = son_df.seaice_conc.values\n",
    "sin11_son = np.array([np.sin(2*np.pi*11 * (t/nyrs)) for t in np.arange(nyrs)])\n",
    "cos11_son = np.array([np.cos(2*np.pi*11 * (t/nyrs)) for t in np.arange(nyrs)])\n",
    "\n",
    "sin5_son = np.array([np.sin(2*np.pi*5 * (t/nyrs)) for t in np.arange(nyrs)])\n",
    "cos5_son = np.array([np.cos(2*np.pi*5 * (t/nyrs)) for t in np.arange(nyrs)])\n",
    "\n",
    "sin12_son = np.array([np.sin(2*np.pi*12 * (t/nyrs)) for t in np.arange(nyrs)])\n",
    "cos12_son = np.array([np.cos(2*np.pi*12 * (t/nyrs)) for t in np.arange(nyrs)])\n",
    "\n",
    "sin10_son = np.array([np.sin(2*np.pi*10 * (t/nyrs)) for t in np.arange(nyrs)])\n",
    "cos10_son = np.array([np.cos(2*np.pi*10 * (t/nyrs)) for t in np.arange(nyrs)])\n",
    "\n",
    "sin6_son = np.array([np.sin(2*np.pi*6 * (t/nyrs)) for t in np.arange(nyrs)])\n",
    "cos6_son = np.array([np.cos(2*np.pi*6 * (t/nyrs)) for t in np.arange(nyrs)])\n"
   ]
  },
  {
   "cell_type": "code",
   "execution_count": null,
   "metadata": {
    "collapsed": false
   },
   "outputs": [],
   "source": [
    "fit_son = smf.glm(\n",
    "    'y_son ~ sin11_son + cos11_son + \\\n",
    "             sin5_son + cos5_son + \\\n",
    "             sin12_son + cos12_son + \\\n",
    "             sin10_son + cos10_son + \\\n",
    "             sin6_son + cos6_son', data=son_df).fit()\n",
    "fit_son.summary()"
   ]
  },
  {
   "cell_type": "code",
   "execution_count": null,
   "metadata": {
    "collapsed": false
   },
   "outputs": [],
   "source": [
    "# Check pvalues for coefficients\n",
    "fit_son.pvalues"
   ]
  },
  {
   "cell_type": "code",
   "execution_count": null,
   "metadata": {
    "collapsed": false
   },
   "outputs": [],
   "source": [
    "print(fit_son.params)\n",
    "k_hat_son = fit_son.params.values  # extract fitted regression coefficients\n",
    "e_son = fit_son.resid_response    # extract raw residuals"
   ]
  },
  {
   "cell_type": "code",
   "execution_count": null,
   "metadata": {
    "collapsed": false
   },
   "outputs": [],
   "source": [
    "plt.scatter(son_df.year, e_son)"
   ]
  },
  {
   "cell_type": "code",
   "execution_count": null,
   "metadata": {
    "collapsed": false
   },
   "outputs": [],
   "source": [
    "# fitted seasonal cycle\n",
    "f_hat_son = k_hat_son[0] + k_hat_son[3]*sin5_son + k_hat_son[4]*cos5_son\n",
    "plt.plot(f_hat_son,'k-')"
   ]
  },
  {
   "cell_type": "code",
   "execution_count": null,
   "metadata": {
    "collapsed": true
   },
   "outputs": [],
   "source": [
    "# Remove residuals and subtract mean for second order residuals: R^2\n",
    "resid2_son = residuals['SON'] - f_hat_son\n",
    "resid2_son = resid2_son - np.mean(resid2_son)"
   ]
  },
  {
   "cell_type": "code",
   "execution_count": null,
   "metadata": {
    "collapsed": false
   },
   "outputs": [],
   "source": [
    "f, axs = plt.subplots(1, 2, figsize=(14,6))\n",
    "\n",
    "plot_acf(resid2_son, nlags=100, col=cmap['SON'], ax=axs[0], title='SON - ACF')\n",
    "plot_pacf(resid2_son, nlags=100, col=cmap['SON'], ax=axs[1], title='SON - PACF')\n",
    "\n",
    "#f.savefig('/home/hflores/repos/kaust_presentation/son_acf.eps', format='eps', \n",
    "#          dpi=1200, bbox_inches='tight')"
   ]
  },
  {
   "cell_type": "code",
   "execution_count": null,
   "metadata": {
    "collapsed": false
   },
   "outputs": [],
   "source": [
    "# Fit AR2 model for R^2\n",
    "fit1_son = arima.ARIMA(resid2_son, (1,0,0)).fit()\n",
    "fit2_son = arima.ARIMA(resid2_son, (2,0,0)).fit()\n",
    "fit3_son = arima.ARIMA(resid2_son, (3,0,0)).fit()\n",
    "fit4_son = arima.ARIMA(resid2_son, (2,0,1)).fit()\n",
    "\n",
    "print(fit1_son.summary())\n",
    "print(fit2_son.summary())\n",
    "print(fit3_son.summary())\n",
    "print(fit4_son.summary())"
   ]
  },
  {
   "cell_type": "code",
   "execution_count": null,
   "metadata": {
    "collapsed": false
   },
   "outputs": [],
   "source": [
    "e_ar_son = ts_diagnostics(fit2_son, col=cmap['SON'], title='SON - AR(2)', save='son_res')"
   ]
  },
  {
   "cell_type": "code",
   "execution_count": null,
   "metadata": {
    "collapsed": false
   },
   "outputs": [],
   "source": [
    "ks_son = scipy.stats.kstest(e_ar_son, cdf='norm')\n",
    "ks_son"
   ]
  },
  {
   "cell_type": "code",
   "execution_count": null,
   "metadata": {
    "collapsed": false
   },
   "outputs": [],
   "source": [
    "son_predict = fit2_son.predict()\n",
    "\n",
    "plt.plot(son_predict, 'r--')\n",
    "plt.plot(residuals['SON'], color='k', alpha=0.4)"
   ]
  },
  {
   "cell_type": "markdown",
   "metadata": {},
   "source": [
    "# DJF"
   ]
  },
  {
   "cell_type": "code",
   "execution_count": null,
   "metadata": {
    "collapsed": false
   },
   "outputs": [],
   "source": [
    "periodograms['DJF'].argsort()[-5:][::-1]"
   ]
  },
  {
   "cell_type": "code",
   "execution_count": null,
   "metadata": {
    "collapsed": true
   },
   "outputs": [],
   "source": [
    "y_djf = djf_df.seaice_conc.values\n",
    "sin1_djf = np.array([np.sin(2*np.pi*1 * (t/nyrs)) for t in np.arange(nyrs)])\n",
    "cos1_djf = np.array([np.cos(2*np.pi*1 * (t/nyrs)) for t in np.arange(nyrs)])\n",
    "\n",
    "sin2_djf = np.array([np.sin(2*np.pi*2 * (t/nyrs)) for t in np.arange(nyrs)])\n",
    "cos2_djf = np.array([np.cos(2*np.pi*2 * (t/nyrs)) for t in np.arange(nyrs)])\n",
    "\n",
    "sin8_djf = np.array([np.sin(2*np.pi*8 * (t/nyrs)) for t in np.arange(nyrs)])\n",
    "cos8_djf = np.array([np.cos(2*np.pi*8 * (t/nyrs)) for t in np.arange(nyrs)])\n",
    "\n",
    "sin11_djf = np.array([np.sin(2*np.pi*11 * (t/nyrs)) for t in np.arange(nyrs)])\n",
    "cos11_djf = np.array([np.cos(2*np.pi*11 * (t/nyrs)) for t in np.arange(nyrs)])\n",
    "\n",
    "sin12_djf = np.array([np.sin(2*np.pi*12 * (t/nyrs)) for t in np.arange(nyrs)])\n",
    "cos12_djf = np.array([np.cos(2*np.pi*12 * (t/nyrs)) for t in np.arange(nyrs)])"
   ]
  },
  {
   "cell_type": "code",
   "execution_count": null,
   "metadata": {
    "collapsed": false
   },
   "outputs": [],
   "source": [
    "fit_djf = smf.glm(\n",
    "    'y_djf ~ sin1_djf + cos1_djf +\\\n",
    "    sin2_djf + cos2_djf +\\\n",
    "    sin8_djf + cos8_djf +\\\n",
    "    sin11_djf + cos11_djf +\\\n",
    "    sin12_djf + cos12_djf', data=djf_df).fit()\n",
    "fit_djf.summary()"
   ]
  },
  {
   "cell_type": "code",
   "execution_count": null,
   "metadata": {
    "collapsed": false
   },
   "outputs": [],
   "source": [
    "# Check pvalues for coefficients\n",
    "fit_djf.pvalues"
   ]
  },
  {
   "cell_type": "code",
   "execution_count": null,
   "metadata": {
    "collapsed": false
   },
   "outputs": [],
   "source": [
    "print(fit_djf.params)\n",
    "k_hat_djf = fit_djf.params.values  # extract fitted regression coefficients\n",
    "e_djf = fit_djf.resid_response    # extract raw residuals"
   ]
  },
  {
   "cell_type": "code",
   "execution_count": null,
   "metadata": {
    "collapsed": false
   },
   "outputs": [],
   "source": [
    "plt.scatter(djf_df.year, e_djf)"
   ]
  },
  {
   "cell_type": "code",
   "execution_count": null,
   "metadata": {
    "collapsed": false
   },
   "outputs": [],
   "source": [
    "# fitted seasonal cycle\n",
    "#+ k_hat_djf[8]*cos8_djf +\\\n",
    "f_hat_djf = k_hat_djf[0] + k_hat_djf[4]*cos2_djf + k_hat_djf[8]*cos11_djf\n",
    "plt.plot(f_hat_djf,'k-')"
   ]
  },
  {
   "cell_type": "code",
   "execution_count": null,
   "metadata": {
    "collapsed": true
   },
   "outputs": [],
   "source": [
    "# Remove residuals and subtract mean for second order residuals: R^2\n",
    "resid2_djf = residuals['DJF'] - f_hat_djf\n",
    "resid2_djf = resid2_djf - np.mean(resid2_djf)"
   ]
  },
  {
   "cell_type": "code",
   "execution_count": null,
   "metadata": {
    "collapsed": false
   },
   "outputs": [],
   "source": [
    "f, axs = plt.subplots(1, 2, figsize=(14,6))\n",
    "\n",
    "plot_acf(resid2_djf, nlags=100, col=cmap['DJF'], ax=axs[0], title='DJF - ACF')\n",
    "plot_pacf(resid2_djf, nlags=100, col=cmap['DJF'], ax=axs[1], title='DJF - PACF')\n",
    "\n",
    "#f.savefig('/home/hflores/repos/kaust_presentation/djf_acf.eps', format='eps', \n",
    "#          dpi=1200, bbox_inches='tight')"
   ]
  },
  {
   "cell_type": "code",
   "execution_count": null,
   "metadata": {
    "collapsed": false
   },
   "outputs": [],
   "source": [
    "# Fit AR2 model for R^2\n",
    "fit1_djf = arima.ARIMA(resid2_djf, (1,0,0)).fit()\n",
    "fit2_djf = arima.ARIMA(resid2_djf, (2,0,0)).fit()\n",
    "print(fit1_djf.summary())\n",
    "print(fit2_djf.summary())"
   ]
  },
  {
   "cell_type": "code",
   "execution_count": null,
   "metadata": {
    "collapsed": false
   },
   "outputs": [],
   "source": [
    "e_ar_djf = ts_diagnostics(fit2_djf, col=cmap['DJF'], title='DJF - AR(2)', save='djf_res')\n",
    "#e_ar_djf = ts_diagnostics(fit2_djf, title='DJF', save='djf_res')"
   ]
  },
  {
   "cell_type": "code",
   "execution_count": null,
   "metadata": {
    "collapsed": false
   },
   "outputs": [],
   "source": [
    "ks_djf = scipy.stats.kstest(e_ar_djf, cdf='norm')\n",
    "ks_djf"
   ]
  },
  {
   "cell_type": "code",
   "execution_count": null,
   "metadata": {
    "collapsed": false
   },
   "outputs": [],
   "source": [
    "djf_predict = fit2_djf.predict()\n",
    "\n",
    "plt.plot(djf_predict, 'r--')\n",
    "plt.plot(residuals['DJF'], color='k', alpha=0.4)"
   ]
  },
  {
   "cell_type": "markdown",
   "metadata": {},
   "source": [
    "# MAM"
   ]
  },
  {
   "cell_type": "code",
   "execution_count": null,
   "metadata": {
    "collapsed": false
   },
   "outputs": [],
   "source": [
    "periodograms['MAM'].argsort()[-5:][::-1]"
   ]
  },
  {
   "cell_type": "code",
   "execution_count": null,
   "metadata": {
    "collapsed": true
   },
   "outputs": [],
   "source": [
    "y_mam = mam_df.seaice_conc.values\n",
    "sin2_mam = np.array([np.sin(2*np.pi * 2 * (t/nyrs)) for t in np.arange(nyrs)])\n",
    "cos2_mam = np.array([np.cos(2*np.pi * 2 * (t/nyrs)) for t in np.arange(nyrs)])\n",
    "\n",
    "sin13_mam = np.array([np.sin(2*np.pi * 13 * (t/nyrs)) for t in np.arange(nyrs)])\n",
    "cos13_mam = np.array([np.cos(2*np.pi * 13 * (t/nyrs)) for t in np.arange(nyrs)])\n",
    "\n",
    "sin19_mam = np.array([np.sin(2*np.pi * 19 * (t/nyrs)) for t in np.arange(nyrs)])\n",
    "cos19_mam = np.array([np.cos(2*np.pi * 19 * (t/nyrs)) for t in np.arange(nyrs)])\n",
    "\n",
    "sin12_mam = np.array([np.sin(2*np.pi * 12 * (t/nyrs)) for t in np.arange(nyrs)])\n",
    "cos12_mam = np.array([np.cos(2*np.pi * 12 * (t/nyrs)) for t in np.arange(nyrs)])\n",
    "\n",
    "sin7_mam = np.array([np.sin(2*np.pi * 7 * (t/nyrs)) for t in np.arange(nyrs)])\n",
    "cos7_mam = np.array([np.cos(2*np.pi * 7 * (t/nyrs)) for t in np.arange(nyrs)])"
   ]
  },
  {
   "cell_type": "code",
   "execution_count": null,
   "metadata": {
    "collapsed": false
   },
   "outputs": [],
   "source": [
    "fit_mam = smf.glm(\n",
    "    'y_mam ~ sin2_mam + cos2_mam + \\\n",
    "    sin13_mam + cos13_mam + \\\n",
    "    sin19_mam + cos19_mam + \\\n",
    "    sin12_mam + cos12_mam + \\\n",
    "    sin7_mam + cos7_mam', data=mam_df).fit()\n",
    "fit_mam.summary()"
   ]
  },
  {
   "cell_type": "code",
   "execution_count": null,
   "metadata": {
    "collapsed": false
   },
   "outputs": [],
   "source": [
    "# Check pvalues for coefficients\n",
    "fit_mam.pvalues"
   ]
  },
  {
   "cell_type": "code",
   "execution_count": null,
   "metadata": {
    "collapsed": false
   },
   "outputs": [],
   "source": [
    "print(fit_mam.params)\n",
    "k_hat_mam = fit_mam.params.values  # extract fitted regression coefficients\n",
    "e_mam = fit_mam.resid_response    # extract raw residuals"
   ]
  },
  {
   "cell_type": "code",
   "execution_count": null,
   "metadata": {
    "collapsed": false
   },
   "outputs": [],
   "source": [
    "plt.scatter(mam_df.year, e_mam)"
   ]
  },
  {
   "cell_type": "code",
   "execution_count": null,
   "metadata": {
    "collapsed": false
   },
   "outputs": [],
   "source": [
    "# fitted seasonal cycle\n",
    "f_hat_mam = k_hat_mam[0] + k_hat_mam[1]*sin2_mam + k_hat_mam[2]*cos2_mam +\\\n",
    "            k_hat_mam[3]*sin13_mam + k_hat_mam[6]*cos19_mam\n",
    "plt.plot(f_hat_mam,'k-')"
   ]
  },
  {
   "cell_type": "code",
   "execution_count": null,
   "metadata": {
    "collapsed": true
   },
   "outputs": [],
   "source": [
    "# Remove residuals and subtract mean for second order residuals: R^2\n",
    "resid2_mam = residuals['MAM'] - f_hat_mam\n",
    "resid2_mam = resid2_mam - np.mean(resid2_mam)"
   ]
  },
  {
   "cell_type": "code",
   "execution_count": null,
   "metadata": {
    "collapsed": false
   },
   "outputs": [],
   "source": [
    "f, axs = plt.subplots(1, 2, figsize=(14,6))\n",
    "\n",
    "plot_acf(resid2_mam, nlags=100, col=cmap['MAM'], ax=axs[0], title='MAM - ACF')\n",
    "plot_pacf(resid2_mam, nlags=100, col=cmap['MAM'], ax=axs[1], title='MAM - PACF')\n",
    "\n",
    "#f.savefig('/home/hflores/repos/kaust_presentation/mam_acf.eps', format='eps', \n",
    "#          dpi=1200, bbox_inches='tight')"
   ]
  },
  {
   "cell_type": "code",
   "execution_count": null,
   "metadata": {
    "collapsed": false
   },
   "outputs": [],
   "source": [
    "# Fit AR2 model for R^2\n",
    "ar1_mam = arima.ARIMA(resid2_mam, (1,0,0)).fit()\n",
    "ar2_mam = arima.ARIMA(resid2_mam, (2,0,0)).fit()\n",
    "ar3_mam = arima.ARIMA(resid2_mam, (3,0,0)).fit()\n",
    "arma21_mam = arima.ARIMA(resid2_mam, (2,0,1)).fit()\n",
    "\n",
    "print(ar1_mam.summary())\n",
    "print(ar2_mam.summary())\n",
    "print(ar3_mam.summary())\n",
    "print(arma21_mam.summary())"
   ]
  },
  {
   "cell_type": "code",
   "execution_count": null,
   "metadata": {
    "collapsed": false
   },
   "outputs": [],
   "source": []
  },
  {
   "cell_type": "code",
   "execution_count": null,
   "metadata": {
    "collapsed": false
   },
   "outputs": [],
   "source": [
    "e_mam = ts_diagnostics(ar2_mam, col=cmap['MAM'], title='MAM - AR(2)', save='mam_res')\n",
    "#e_mam = ts_diagnostics(fit2_mam, title='MAM', save='mam_res')"
   ]
  },
  {
   "cell_type": "code",
   "execution_count": null,
   "metadata": {
    "collapsed": false
   },
   "outputs": [],
   "source": []
  },
  {
   "cell_type": "code",
   "execution_count": null,
   "metadata": {
    "collapsed": false
   },
   "outputs": [],
   "source": [
    "ks_mam = scipy.stats.kstest(e_mam, cdf='norm')\n",
    "ks_mam"
   ]
  },
  {
   "cell_type": "code",
   "execution_count": null,
   "metadata": {
    "collapsed": false
   },
   "outputs": [],
   "source": [
    "mam_predict = fit2_djf.predict()\n",
    "\n",
    "plt.plot(mam_predict, 'r--')\n",
    "plt.plot(residuals['MAM'], color='k', alpha=0.4)"
   ]
  },
  {
   "cell_type": "code",
   "execution_count": null,
   "metadata": {
    "collapsed": true
   },
   "outputs": [],
   "source": []
  }
 ],
 "metadata": {
  "kernelspec": {
   "display_name": "Python 3",
   "language": "python",
   "name": "python3"
  },
  "language_info": {
   "codemirror_mode": {
    "name": "ipython",
    "version": 3
   },
   "file_extension": ".py",
   "mimetype": "text/x-python",
   "name": "python",
   "nbconvert_exporter": "python",
   "pygments_lexer": "ipython3",
   "version": "3.6.0"
  }
 },
 "nbformat": 4,
 "nbformat_minor": 2
}
